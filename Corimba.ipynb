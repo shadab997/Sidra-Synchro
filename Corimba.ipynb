{
  "nbformat": 4,
  "nbformat_minor": 0,
  "metadata": {
    "colab": {
      "provenance": [],
      "collapsed_sections": [
        "sB_iPfymyNWS",
        "_19R5PazyZLx"
      ]
    },
    "kernelspec": {
      "name": "python3",
      "display_name": "Python 3"
    },
    "language_info": {
      "name": "python"
    }
  },
  "cells": [
    {
      "cell_type": "markdown",
      "source": [
        "Import Marginal the corimba survey data and All loaction MCC-loaction file"
      ],
      "metadata": {
        "id": "5peGS2Mjmqci"
      }
    },
    {
      "cell_type": "markdown",
      "source": [
        "#Processing"
      ],
      "metadata": {
        "id": "sB_iPfymyNWS"
      }
    },
    {
      "cell_type": "code",
      "execution_count": null,
      "metadata": {
        "id": "iq-mIVJX7Jxd"
      },
      "outputs": [],
      "source": [
        "import pandas as pd"
      ]
    },
    {
      "cell_type": "code",
      "source": [
        "file_path = '/content/Marginal da Corimba_MCC Survey Format_rev2.xlsx'\n",
        "\n",
        "# Load all sheets into a dictionary of DataFrames\n",
        "all_sheets = pd.read_excel(file_path, sheet_name=None)"
      ],
      "metadata": {
        "id": "o6F8RQRgCiWf"
      },
      "execution_count": null,
      "outputs": []
    },
    {
      "cell_type": "code",
      "source": [
        "del all_sheets['Localização MCC']"
      ],
      "metadata": {
        "id": "ZEfVatrV_C7N"
      },
      "execution_count": null,
      "outputs": []
    },
    {
      "cell_type": "code",
      "source": [
        "# Update sheet names directly in the dictionary\n",
        "for sheet_name in list(all_sheets.keys()):\n",
        "    new_sheet_name = sheet_name.replace(\"MONDAY\", \"02.09.2024\").replace(\" \", \"\").replace(\"-\", \"\")\n",
        "    all_sheets[new_sheet_name] = all_sheets.pop(sheet_name)"
      ],
      "metadata": {
        "id": "X_20yjh1BK1i"
      },
      "execution_count": null,
      "outputs": []
    },
    {
      "cell_type": "code",
      "source": [
        "sheet_names = all_sheets.keys()\n",
        "sheet_names = [name.replace('2024', '24') for name in sheet_names]\n",
        "# Convert to a list (optional)\n",
        "sheet_names_list = list(sheet_names)\n"
      ],
      "metadata": {
        "id": "Dl5LOl0gkuZc"
      },
      "execution_count": null,
      "outputs": []
    },
    {
      "cell_type": "code",
      "source": [
        "last_eight_digits = [sheet[-8:] for sheet in sheet_names]\n",
        "unique_last_eight_digits = list(set(last_eight_digits))\n",
        "\n",
        "print(unique_last_eight_digits)"
      ],
      "metadata": {
        "colab": {
          "base_uri": "https://localhost:8080/"
        },
        "id": "1zsR-54jlOeZ",
        "outputId": "657076cf-222e-4be4-dcd7-5391d031394c"
      },
      "execution_count": null,
      "outputs": [
        {
          "output_type": "stream",
          "name": "stdout",
          "text": [
            "['09.10.24', '21.10.24', '16.10.24', '04.10.24', '30.09.24', '07.10.24', '23.10.24', '13.09.24', '02.09.24', '14.10.24', '11.10.24', '27.09.24']\n"
          ]
        }
      ]
    },
    {
      "cell_type": "code",
      "source": [
        "from datetime import datetime\n",
        "\n",
        "# List of dates in 'YY.MM.DD' format\n",
        "dates = unique_last_eight_digits\n",
        "\n",
        "# Convert dates to day of week and pair them\n",
        "date_day_pairs = [(date, datetime.strptime(date, \"%d.%m.%y\").strftime(\"%A\")) for date in dates]\n",
        "\n",
        "# Define the order for days of the week\n",
        "days_order = ['Monday', 'Tuesday', 'Wednesday', 'Thursday', 'Friday', 'Saturday', 'Sunday']\n",
        "\n",
        "# Sort by day order\n",
        "sorted_dates = sorted(date_day_pairs, key=lambda x: days_order.index(x[1]))\n",
        "\n",
        "# Group by day of the week and print\n",
        "grouped_by_day = {day: [date for date, day_name in sorted_dates if day_name == day] for day in days_order}\n",
        "\n",
        "for day, date_list in grouped_by_day.items():\n",
        "    print(f\"{day}: {date_list}\")\n"
      ],
      "metadata": {
        "colab": {
          "base_uri": "https://localhost:8080/"
        },
        "id": "RIT6YxeESqk-",
        "outputId": "08d2be85-ef70-4ff8-d56e-a304b5aae1c5"
      },
      "execution_count": null,
      "outputs": [
        {
          "output_type": "stream",
          "name": "stdout",
          "text": [
            "Monday: ['21.10.24', '30.09.24', '07.10.24', '02.09.24', '14.10.24']\n",
            "Tuesday: []\n",
            "Wednesday: ['09.10.24', '16.10.24', '23.10.24']\n",
            "Thursday: []\n",
            "Friday: ['04.10.24', '13.09.24', '11.10.24', '27.09.24']\n",
            "Saturday: []\n",
            "Sunday: []\n"
          ]
        }
      ]
    },
    {
      "cell_type": "markdown",
      "source": [
        "# Excel write"
      ],
      "metadata": {
        "id": "NOjO8wuwe44F"
      }
    },
    {
      "cell_type": "code",
      "source": [
        "from google.colab import files\n",
        "uploaded = files.upload()"
      ],
      "metadata": {
        "colab": {
          "base_uri": "https://localhost:8080/",
          "height": 732
        },
        "id": "WG6kskA0e9L8",
        "outputId": "259132fe-0e4d-4812-984c-c26fdba445a8"
      },
      "execution_count": null,
      "outputs": [
        {
          "output_type": "display_data",
          "data": {
            "text/plain": [
              "<IPython.core.display.HTML object>"
            ],
            "text/html": [
              "\n",
              "     <input type=\"file\" id=\"files-d2fd4dcc-e118-4a4f-b48a-f4e2c0874451\" name=\"files[]\" multiple disabled\n",
              "        style=\"border:none\" />\n",
              "     <output id=\"result-d2fd4dcc-e118-4a4f-b48a-f4e2c0874451\">\n",
              "      Upload widget is only available when the cell has been executed in the\n",
              "      current browser session. Please rerun this cell to enable.\n",
              "      </output>\n",
              "      <script>// Copyright 2017 Google LLC\n",
              "//\n",
              "// Licensed under the Apache License, Version 2.0 (the \"License\");\n",
              "// you may not use this file except in compliance with the License.\n",
              "// You may obtain a copy of the License at\n",
              "//\n",
              "//      http://www.apache.org/licenses/LICENSE-2.0\n",
              "//\n",
              "// Unless required by applicable law or agreed to in writing, software\n",
              "// distributed under the License is distributed on an \"AS IS\" BASIS,\n",
              "// WITHOUT WARRANTIES OR CONDITIONS OF ANY KIND, either express or implied.\n",
              "// See the License for the specific language governing permissions and\n",
              "// limitations under the License.\n",
              "\n",
              "/**\n",
              " * @fileoverview Helpers for google.colab Python module.\n",
              " */\n",
              "(function(scope) {\n",
              "function span(text, styleAttributes = {}) {\n",
              "  const element = document.createElement('span');\n",
              "  element.textContent = text;\n",
              "  for (const key of Object.keys(styleAttributes)) {\n",
              "    element.style[key] = styleAttributes[key];\n",
              "  }\n",
              "  return element;\n",
              "}\n",
              "\n",
              "// Max number of bytes which will be uploaded at a time.\n",
              "const MAX_PAYLOAD_SIZE = 100 * 1024;\n",
              "\n",
              "function _uploadFiles(inputId, outputId) {\n",
              "  const steps = uploadFilesStep(inputId, outputId);\n",
              "  const outputElement = document.getElementById(outputId);\n",
              "  // Cache steps on the outputElement to make it available for the next call\n",
              "  // to uploadFilesContinue from Python.\n",
              "  outputElement.steps = steps;\n",
              "\n",
              "  return _uploadFilesContinue(outputId);\n",
              "}\n",
              "\n",
              "// This is roughly an async generator (not supported in the browser yet),\n",
              "// where there are multiple asynchronous steps and the Python side is going\n",
              "// to poll for completion of each step.\n",
              "// This uses a Promise to block the python side on completion of each step,\n",
              "// then passes the result of the previous step as the input to the next step.\n",
              "function _uploadFilesContinue(outputId) {\n",
              "  const outputElement = document.getElementById(outputId);\n",
              "  const steps = outputElement.steps;\n",
              "\n",
              "  const next = steps.next(outputElement.lastPromiseValue);\n",
              "  return Promise.resolve(next.value.promise).then((value) => {\n",
              "    // Cache the last promise value to make it available to the next\n",
              "    // step of the generator.\n",
              "    outputElement.lastPromiseValue = value;\n",
              "    return next.value.response;\n",
              "  });\n",
              "}\n",
              "\n",
              "/**\n",
              " * Generator function which is called between each async step of the upload\n",
              " * process.\n",
              " * @param {string} inputId Element ID of the input file picker element.\n",
              " * @param {string} outputId Element ID of the output display.\n",
              " * @return {!Iterable<!Object>} Iterable of next steps.\n",
              " */\n",
              "function* uploadFilesStep(inputId, outputId) {\n",
              "  const inputElement = document.getElementById(inputId);\n",
              "  inputElement.disabled = false;\n",
              "\n",
              "  const outputElement = document.getElementById(outputId);\n",
              "  outputElement.innerHTML = '';\n",
              "\n",
              "  const pickedPromise = new Promise((resolve) => {\n",
              "    inputElement.addEventListener('change', (e) => {\n",
              "      resolve(e.target.files);\n",
              "    });\n",
              "  });\n",
              "\n",
              "  const cancel = document.createElement('button');\n",
              "  inputElement.parentElement.appendChild(cancel);\n",
              "  cancel.textContent = 'Cancel upload';\n",
              "  const cancelPromise = new Promise((resolve) => {\n",
              "    cancel.onclick = () => {\n",
              "      resolve(null);\n",
              "    };\n",
              "  });\n",
              "\n",
              "  // Wait for the user to pick the files.\n",
              "  const files = yield {\n",
              "    promise: Promise.race([pickedPromise, cancelPromise]),\n",
              "    response: {\n",
              "      action: 'starting',\n",
              "    }\n",
              "  };\n",
              "\n",
              "  cancel.remove();\n",
              "\n",
              "  // Disable the input element since further picks are not allowed.\n",
              "  inputElement.disabled = true;\n",
              "\n",
              "  if (!files) {\n",
              "    return {\n",
              "      response: {\n",
              "        action: 'complete',\n",
              "      }\n",
              "    };\n",
              "  }\n",
              "\n",
              "  for (const file of files) {\n",
              "    const li = document.createElement('li');\n",
              "    li.append(span(file.name, {fontWeight: 'bold'}));\n",
              "    li.append(span(\n",
              "        `(${file.type || 'n/a'}) - ${file.size} bytes, ` +\n",
              "        `last modified: ${\n",
              "            file.lastModifiedDate ? file.lastModifiedDate.toLocaleDateString() :\n",
              "                                    'n/a'} - `));\n",
              "    const percent = span('0% done');\n",
              "    li.appendChild(percent);\n",
              "\n",
              "    outputElement.appendChild(li);\n",
              "\n",
              "    const fileDataPromise = new Promise((resolve) => {\n",
              "      const reader = new FileReader();\n",
              "      reader.onload = (e) => {\n",
              "        resolve(e.target.result);\n",
              "      };\n",
              "      reader.readAsArrayBuffer(file);\n",
              "    });\n",
              "    // Wait for the data to be ready.\n",
              "    let fileData = yield {\n",
              "      promise: fileDataPromise,\n",
              "      response: {\n",
              "        action: 'continue',\n",
              "      }\n",
              "    };\n",
              "\n",
              "    // Use a chunked sending to avoid message size limits. See b/62115660.\n",
              "    let position = 0;\n",
              "    do {\n",
              "      const length = Math.min(fileData.byteLength - position, MAX_PAYLOAD_SIZE);\n",
              "      const chunk = new Uint8Array(fileData, position, length);\n",
              "      position += length;\n",
              "\n",
              "      const base64 = btoa(String.fromCharCode.apply(null, chunk));\n",
              "      yield {\n",
              "        response: {\n",
              "          action: 'append',\n",
              "          file: file.name,\n",
              "          data: base64,\n",
              "        },\n",
              "      };\n",
              "\n",
              "      let percentDone = fileData.byteLength === 0 ?\n",
              "          100 :\n",
              "          Math.round((position / fileData.byteLength) * 100);\n",
              "      percent.textContent = `${percentDone}% done`;\n",
              "\n",
              "    } while (position < fileData.byteLength);\n",
              "  }\n",
              "\n",
              "  // All done.\n",
              "  yield {\n",
              "    response: {\n",
              "      action: 'complete',\n",
              "    }\n",
              "  };\n",
              "}\n",
              "\n",
              "scope.google = scope.google || {};\n",
              "scope.google.colab = scope.google.colab || {};\n",
              "scope.google.colab._files = {\n",
              "  _uploadFiles,\n",
              "  _uploadFilesContinue,\n",
              "};\n",
              "})(self);\n",
              "</script> "
            ]
          },
          "metadata": {}
        },
        {
          "output_type": "stream",
          "name": "stdout",
          "text": [
            "Saving MCC-1.xlsx to MCC-1 (1).xlsx\n",
            "Saving MCC-2.xlsx to MCC-2 (1).xlsx\n",
            "Saving MCC-3.xlsx to MCC-3 (1).xlsx\n",
            "Saving MCC-4.xlsx to MCC-4 (1).xlsx\n",
            "Saving MCC-5.xlsx to MCC-5 (1).xlsx\n",
            "Saving MCC-6.xlsx to MCC-6 (1).xlsx\n",
            "Saving MCC-7.xlsx to MCC-7 (1).xlsx\n",
            "Saving MCC-8.xlsx to MCC-8 (1).xlsx\n",
            "Saving MCC-9.xlsx to MCC-9 (1).xlsx\n",
            "Saving MCC-10.xlsx to MCC-10 (1).xlsx\n",
            "Saving MCC-11.xlsx to MCC-11 (1).xlsx\n",
            "Saving MCC-12.xlsx to MCC-12 (1).xlsx\n",
            "Saving MCC-13.xlsx to MCC-13 (1).xlsx\n",
            "Saving MCC-14.xlsx to MCC-14 (1).xlsx\n",
            "Saving MCC-15.xlsx to MCC-15 (1).xlsx\n",
            "Saving MCC-16.xlsx to MCC-16 (1).xlsx\n",
            "Saving MCC-17.xlsx to MCC-17 (1).xlsx\n",
            "Saving MCC-18.xlsx to MCC-18 (1).xlsx\n",
            "Saving MCC-19.xlsx to MCC-19 (1).xlsx\n",
            "Saving MCC-20.xlsx to MCC-20 (1).xlsx\n"
          ]
        }
      ]
    },
    {
      "cell_type": "markdown",
      "source": [
        "# Final run to get output"
      ],
      "metadata": {
        "id": "_19R5PazyZLx"
      }
    },
    {
      "cell_type": "code",
      "source": [
        "for i in range(1, 21):\n",
        "    merged_df1_2 = pd.DataFrame()\n",
        "    merged_df3_4 = pd.DataFrame()\n",
        "    for d in unique_last_eight_digits:\n",
        "        # Initialize merged DataFrames for each unique identifier\n",
        "        # Define expected sheet names\n",
        "        sheet_name_d1 = f'MCC{i}SurveyForm1D1{d}'\n",
        "        sheet_name_d2 = f'MCC{i}SurveyForm2D1{d}'\n",
        "        sheet_name_d3 = f'MCC{i}SurveyForm1D2{d}'\n",
        "        sheet_name_d4 = f'MCC{i}SurveyForm2D2{d}'\n",
        "\n",
        "        # Check if sheets exist in all_sheets before loading and processing\n",
        "        if sheet_name_d1 in all_sheets and sheet_name_d2 in all_sheets:\n",
        "            # Load and prepare d1 and d2\n",
        "            d1 = all_sheets[sheet_name_d1]\n",
        "            d2 = all_sheets[sheet_name_d2]\n",
        "            d1.drop(d1.columns[0], axis=1, inplace=True)\n",
        "            df1 = d1.iloc[17:, :].copy()\n",
        "            new_column_names1 = list(d1.iloc[10, 1:].values)\n",
        "            df1.rename(columns={\n",
        "                'Unnamed: 1': d,\n",
        "                'Unnamed: 2': new_column_names1[0],\n",
        "                'Unnamed: 3': new_column_names1[1],\n",
        "                'Unnamed: 4': new_column_names1[2]\n",
        "            }, inplace=True)\n",
        "\n",
        "            d2.drop(d2.columns[0], axis=1, inplace=True)\n",
        "            df2 = d2.iloc[17:, :].copy()\n",
        "            new_column_names2 = list(d2.iloc[10, :].values)\n",
        "            df2.rename(columns={\n",
        "                'Unnamed: 0': d,\n",
        "                'Unnamed: 1': new_column_names2[0],\n",
        "                'Unnamed: 2': new_column_names2[1],\n",
        "                'Unnamed: 3': new_column_names2[2],\n",
        "                'Unnamed: 4': new_column_names2[3],\n",
        "                'Unnamed: 5': new_column_names2[4]\n",
        "            }, inplace=True)\n",
        "\n",
        "            # Merge df1 and df2\n",
        "            df1_merged = pd.concat([df1, df2], axis=1)\n",
        "            merged_df1_2 = pd.concat([merged_df1_2, df1_merged], axis=1)\n",
        "\n",
        "        if sheet_name_d3 in all_sheets and sheet_name_d4 in all_sheets:\n",
        "            # Load and prepare d3 and d4\n",
        "            d3 = all_sheets[sheet_name_d3]\n",
        "            d4 = all_sheets[sheet_name_d4]\n",
        "            d3.drop(d3.columns[0], axis=1, inplace=True)\n",
        "            df3 = d3.iloc[17:, :].copy()\n",
        "            new_column_names3 = list(d3.iloc[10, 1:].values)\n",
        "            df3.rename(columns={\n",
        "                'Unnamed: 1': d,\n",
        "                'Unnamed: 2': new_column_names3[0],\n",
        "                'Unnamed: 3': new_column_names3[1],\n",
        "                'Unnamed: 4': new_column_names3[2]\n",
        "            }, inplace=True)\n",
        "\n",
        "            d4.drop(d4.columns[0], axis=1, inplace=True)\n",
        "            df4 = d4.iloc[17:, :].copy()\n",
        "            new_column_names4 = list(d4.iloc[10, :].values)\n",
        "            df4.rename(columns={\n",
        "                'Unnamed: 0': d,\n",
        "                'Unnamed: 1': new_column_names4[0],\n",
        "                'Unnamed: 2': new_column_names4[1],\n",
        "                'Unnamed: 3': new_column_names4[2],\n",
        "                'Unnamed: 4': new_column_names4[3],\n",
        "                'Unnamed: 5': new_column_names4[4]\n",
        "            }, inplace=True)\n",
        "\n",
        "            # Merge df3 and df4\n",
        "            df3_merged = pd.concat([df3, df4], axis=1)\n",
        "            merged_df3_4 = pd.concat([merged_df3_4, df3_merged], axis=1)\n",
        "        if sheet_name_d1 in all_sheets and sheet_name_d2 in all_sheets:\n",
        "            if \"LUANDA\" in d1.iloc[6, 3]:\n",
        "                globals()[f'MCC{i}_NB'] = merged_df1_2.fillna(0)\n",
        "            else:\n",
        "                globals()[f'MCC{i}_SB'] = merged_df1_2.fillna(0)\n",
        "        if sheet_name_d3 in all_sheets and sheet_name_d4 in all_sheets:\n",
        "            if \"MORRO\" in d3.iloc[6, 3]:\n",
        "                globals()[f'MCC{i}_SB'] = merged_df3_4.fillna(0)\n",
        "            else:\n",
        "                globals()[f'MCC{i}_NB'] = merged_df3_4.fillna(0)\n"
      ],
      "metadata": {
        "id": "yD27F4FAP9WC",
        "colab": {
          "base_uri": "https://localhost:8080/"
        },
        "outputId": "dc5e7025-7811-4831-fe65-a51187a695f5"
      },
      "execution_count": null,
      "outputs": [
        {
          "output_type": "stream",
          "name": "stderr",
          "text": [
            "<ipython-input-20-c82d87e73b81>:74: FutureWarning: Downcasting object dtype arrays on .fillna, .ffill, .bfill is deprecated and will change in a future version. Call result.infer_objects(copy=False) instead. To opt-in to the future behavior, set `pd.set_option('future.no_silent_downcasting', True)`\n",
            "  globals()[f'MCC{i}_NB'] = merged_df1_2.fillna(0)\n",
            "<ipython-input-20-c82d87e73b81>:79: FutureWarning: Downcasting object dtype arrays on .fillna, .ffill, .bfill is deprecated and will change in a future version. Call result.infer_objects(copy=False) instead. To opt-in to the future behavior, set `pd.set_option('future.no_silent_downcasting', True)`\n",
            "  globals()[f'MCC{i}_SB'] = merged_df3_4.fillna(0)\n",
            "<ipython-input-20-c82d87e73b81>:74: FutureWarning: Downcasting object dtype arrays on .fillna, .ffill, .bfill is deprecated and will change in a future version. Call result.infer_objects(copy=False) instead. To opt-in to the future behavior, set `pd.set_option('future.no_silent_downcasting', True)`\n",
            "  globals()[f'MCC{i}_NB'] = merged_df1_2.fillna(0)\n",
            "<ipython-input-20-c82d87e73b81>:79: FutureWarning: Downcasting object dtype arrays on .fillna, .ffill, .bfill is deprecated and will change in a future version. Call result.infer_objects(copy=False) instead. To opt-in to the future behavior, set `pd.set_option('future.no_silent_downcasting', True)`\n",
            "  globals()[f'MCC{i}_SB'] = merged_df3_4.fillna(0)\n",
            "<ipython-input-20-c82d87e73b81>:74: FutureWarning: Downcasting object dtype arrays on .fillna, .ffill, .bfill is deprecated and will change in a future version. Call result.infer_objects(copy=False) instead. To opt-in to the future behavior, set `pd.set_option('future.no_silent_downcasting', True)`\n",
            "  globals()[f'MCC{i}_NB'] = merged_df1_2.fillna(0)\n",
            "<ipython-input-20-c82d87e73b81>:79: FutureWarning: Downcasting object dtype arrays on .fillna, .ffill, .bfill is deprecated and will change in a future version. Call result.infer_objects(copy=False) instead. To opt-in to the future behavior, set `pd.set_option('future.no_silent_downcasting', True)`\n",
            "  globals()[f'MCC{i}_SB'] = merged_df3_4.fillna(0)\n",
            "<ipython-input-20-c82d87e73b81>:74: FutureWarning: Downcasting object dtype arrays on .fillna, .ffill, .bfill is deprecated and will change in a future version. Call result.infer_objects(copy=False) instead. To opt-in to the future behavior, set `pd.set_option('future.no_silent_downcasting', True)`\n",
            "  globals()[f'MCC{i}_NB'] = merged_df1_2.fillna(0)\n",
            "<ipython-input-20-c82d87e73b81>:79: FutureWarning: Downcasting object dtype arrays on .fillna, .ffill, .bfill is deprecated and will change in a future version. Call result.infer_objects(copy=False) instead. To opt-in to the future behavior, set `pd.set_option('future.no_silent_downcasting', True)`\n",
            "  globals()[f'MCC{i}_SB'] = merged_df3_4.fillna(0)\n",
            "<ipython-input-20-c82d87e73b81>:74: FutureWarning: Downcasting object dtype arrays on .fillna, .ffill, .bfill is deprecated and will change in a future version. Call result.infer_objects(copy=False) instead. To opt-in to the future behavior, set `pd.set_option('future.no_silent_downcasting', True)`\n",
            "  globals()[f'MCC{i}_NB'] = merged_df1_2.fillna(0)\n",
            "<ipython-input-20-c82d87e73b81>:79: FutureWarning: Downcasting object dtype arrays on .fillna, .ffill, .bfill is deprecated and will change in a future version. Call result.infer_objects(copy=False) instead. To opt-in to the future behavior, set `pd.set_option('future.no_silent_downcasting', True)`\n",
            "  globals()[f'MCC{i}_SB'] = merged_df3_4.fillna(0)\n",
            "<ipython-input-20-c82d87e73b81>:74: FutureWarning: Downcasting object dtype arrays on .fillna, .ffill, .bfill is deprecated and will change in a future version. Call result.infer_objects(copy=False) instead. To opt-in to the future behavior, set `pd.set_option('future.no_silent_downcasting', True)`\n",
            "  globals()[f'MCC{i}_NB'] = merged_df1_2.fillna(0)\n",
            "<ipython-input-20-c82d87e73b81>:79: FutureWarning: Downcasting object dtype arrays on .fillna, .ffill, .bfill is deprecated and will change in a future version. Call result.infer_objects(copy=False) instead. To opt-in to the future behavior, set `pd.set_option('future.no_silent_downcasting', True)`\n",
            "  globals()[f'MCC{i}_SB'] = merged_df3_4.fillna(0)\n",
            "<ipython-input-20-c82d87e73b81>:74: FutureWarning: Downcasting object dtype arrays on .fillna, .ffill, .bfill is deprecated and will change in a future version. Call result.infer_objects(copy=False) instead. To opt-in to the future behavior, set `pd.set_option('future.no_silent_downcasting', True)`\n",
            "  globals()[f'MCC{i}_NB'] = merged_df1_2.fillna(0)\n",
            "<ipython-input-20-c82d87e73b81>:79: FutureWarning: Downcasting object dtype arrays on .fillna, .ffill, .bfill is deprecated and will change in a future version. Call result.infer_objects(copy=False) instead. To opt-in to the future behavior, set `pd.set_option('future.no_silent_downcasting', True)`\n",
            "  globals()[f'MCC{i}_SB'] = merged_df3_4.fillna(0)\n",
            "<ipython-input-20-c82d87e73b81>:74: FutureWarning: Downcasting object dtype arrays on .fillna, .ffill, .bfill is deprecated and will change in a future version. Call result.infer_objects(copy=False) instead. To opt-in to the future behavior, set `pd.set_option('future.no_silent_downcasting', True)`\n",
            "  globals()[f'MCC{i}_NB'] = merged_df1_2.fillna(0)\n",
            "<ipython-input-20-c82d87e73b81>:79: FutureWarning: Downcasting object dtype arrays on .fillna, .ffill, .bfill is deprecated and will change in a future version. Call result.infer_objects(copy=False) instead. To opt-in to the future behavior, set `pd.set_option('future.no_silent_downcasting', True)`\n",
            "  globals()[f'MCC{i}_SB'] = merged_df3_4.fillna(0)\n",
            "<ipython-input-20-c82d87e73b81>:74: FutureWarning: Downcasting object dtype arrays on .fillna, .ffill, .bfill is deprecated and will change in a future version. Call result.infer_objects(copy=False) instead. To opt-in to the future behavior, set `pd.set_option('future.no_silent_downcasting', True)`\n",
            "  globals()[f'MCC{i}_NB'] = merged_df1_2.fillna(0)\n",
            "<ipython-input-20-c82d87e73b81>:79: FutureWarning: Downcasting object dtype arrays on .fillna, .ffill, .bfill is deprecated and will change in a future version. Call result.infer_objects(copy=False) instead. To opt-in to the future behavior, set `pd.set_option('future.no_silent_downcasting', True)`\n",
            "  globals()[f'MCC{i}_SB'] = merged_df3_4.fillna(0)\n",
            "<ipython-input-20-c82d87e73b81>:74: FutureWarning: Downcasting object dtype arrays on .fillna, .ffill, .bfill is deprecated and will change in a future version. Call result.infer_objects(copy=False) instead. To opt-in to the future behavior, set `pd.set_option('future.no_silent_downcasting', True)`\n",
            "  globals()[f'MCC{i}_NB'] = merged_df1_2.fillna(0)\n",
            "<ipython-input-20-c82d87e73b81>:79: FutureWarning: Downcasting object dtype arrays on .fillna, .ffill, .bfill is deprecated and will change in a future version. Call result.infer_objects(copy=False) instead. To opt-in to the future behavior, set `pd.set_option('future.no_silent_downcasting', True)`\n",
            "  globals()[f'MCC{i}_SB'] = merged_df3_4.fillna(0)\n",
            "<ipython-input-20-c82d87e73b81>:74: FutureWarning: Downcasting object dtype arrays on .fillna, .ffill, .bfill is deprecated and will change in a future version. Call result.infer_objects(copy=False) instead. To opt-in to the future behavior, set `pd.set_option('future.no_silent_downcasting', True)`\n",
            "  globals()[f'MCC{i}_NB'] = merged_df1_2.fillna(0)\n",
            "<ipython-input-20-c82d87e73b81>:79: FutureWarning: Downcasting object dtype arrays on .fillna, .ffill, .bfill is deprecated and will change in a future version. Call result.infer_objects(copy=False) instead. To opt-in to the future behavior, set `pd.set_option('future.no_silent_downcasting', True)`\n",
            "  globals()[f'MCC{i}_SB'] = merged_df3_4.fillna(0)\n",
            "<ipython-input-20-c82d87e73b81>:74: FutureWarning: Downcasting object dtype arrays on .fillna, .ffill, .bfill is deprecated and will change in a future version. Call result.infer_objects(copy=False) instead. To opt-in to the future behavior, set `pd.set_option('future.no_silent_downcasting', True)`\n",
            "  globals()[f'MCC{i}_NB'] = merged_df1_2.fillna(0)\n",
            "<ipython-input-20-c82d87e73b81>:79: FutureWarning: Downcasting object dtype arrays on .fillna, .ffill, .bfill is deprecated and will change in a future version. Call result.infer_objects(copy=False) instead. To opt-in to the future behavior, set `pd.set_option('future.no_silent_downcasting', True)`\n",
            "  globals()[f'MCC{i}_SB'] = merged_df3_4.fillna(0)\n",
            "<ipython-input-20-c82d87e73b81>:74: FutureWarning: Downcasting object dtype arrays on .fillna, .ffill, .bfill is deprecated and will change in a future version. Call result.infer_objects(copy=False) instead. To opt-in to the future behavior, set `pd.set_option('future.no_silent_downcasting', True)`\n",
            "  globals()[f'MCC{i}_NB'] = merged_df1_2.fillna(0)\n",
            "<ipython-input-20-c82d87e73b81>:79: FutureWarning: Downcasting object dtype arrays on .fillna, .ffill, .bfill is deprecated and will change in a future version. Call result.infer_objects(copy=False) instead. To opt-in to the future behavior, set `pd.set_option('future.no_silent_downcasting', True)`\n",
            "  globals()[f'MCC{i}_SB'] = merged_df3_4.fillna(0)\n",
            "<ipython-input-20-c82d87e73b81>:74: FutureWarning: Downcasting object dtype arrays on .fillna, .ffill, .bfill is deprecated and will change in a future version. Call result.infer_objects(copy=False) instead. To opt-in to the future behavior, set `pd.set_option('future.no_silent_downcasting', True)`\n",
            "  globals()[f'MCC{i}_NB'] = merged_df1_2.fillna(0)\n",
            "<ipython-input-20-c82d87e73b81>:79: FutureWarning: Downcasting object dtype arrays on .fillna, .ffill, .bfill is deprecated and will change in a future version. Call result.infer_objects(copy=False) instead. To opt-in to the future behavior, set `pd.set_option('future.no_silent_downcasting', True)`\n",
            "  globals()[f'MCC{i}_SB'] = merged_df3_4.fillna(0)\n",
            "<ipython-input-20-c82d87e73b81>:74: FutureWarning: Downcasting object dtype arrays on .fillna, .ffill, .bfill is deprecated and will change in a future version. Call result.infer_objects(copy=False) instead. To opt-in to the future behavior, set `pd.set_option('future.no_silent_downcasting', True)`\n",
            "  globals()[f'MCC{i}_NB'] = merged_df1_2.fillna(0)\n",
            "<ipython-input-20-c82d87e73b81>:79: FutureWarning: Downcasting object dtype arrays on .fillna, .ffill, .bfill is deprecated and will change in a future version. Call result.infer_objects(copy=False) instead. To opt-in to the future behavior, set `pd.set_option('future.no_silent_downcasting', True)`\n",
            "  globals()[f'MCC{i}_SB'] = merged_df3_4.fillna(0)\n",
            "<ipython-input-20-c82d87e73b81>:74: FutureWarning: Downcasting object dtype arrays on .fillna, .ffill, .bfill is deprecated and will change in a future version. Call result.infer_objects(copy=False) instead. To opt-in to the future behavior, set `pd.set_option('future.no_silent_downcasting', True)`\n",
            "  globals()[f'MCC{i}_NB'] = merged_df1_2.fillna(0)\n",
            "<ipython-input-20-c82d87e73b81>:79: FutureWarning: Downcasting object dtype arrays on .fillna, .ffill, .bfill is deprecated and will change in a future version. Call result.infer_objects(copy=False) instead. To opt-in to the future behavior, set `pd.set_option('future.no_silent_downcasting', True)`\n",
            "  globals()[f'MCC{i}_SB'] = merged_df3_4.fillna(0)\n",
            "<ipython-input-20-c82d87e73b81>:74: FutureWarning: Downcasting object dtype arrays on .fillna, .ffill, .bfill is deprecated and will change in a future version. Call result.infer_objects(copy=False) instead. To opt-in to the future behavior, set `pd.set_option('future.no_silent_downcasting', True)`\n",
            "  globals()[f'MCC{i}_NB'] = merged_df1_2.fillna(0)\n",
            "<ipython-input-20-c82d87e73b81>:79: FutureWarning: Downcasting object dtype arrays on .fillna, .ffill, .bfill is deprecated and will change in a future version. Call result.infer_objects(copy=False) instead. To opt-in to the future behavior, set `pd.set_option('future.no_silent_downcasting', True)`\n",
            "  globals()[f'MCC{i}_SB'] = merged_df3_4.fillna(0)\n",
            "<ipython-input-20-c82d87e73b81>:74: FutureWarning: Downcasting object dtype arrays on .fillna, .ffill, .bfill is deprecated and will change in a future version. Call result.infer_objects(copy=False) instead. To opt-in to the future behavior, set `pd.set_option('future.no_silent_downcasting', True)`\n",
            "  globals()[f'MCC{i}_NB'] = merged_df1_2.fillna(0)\n",
            "<ipython-input-20-c82d87e73b81>:79: FutureWarning: Downcasting object dtype arrays on .fillna, .ffill, .bfill is deprecated and will change in a future version. Call result.infer_objects(copy=False) instead. To opt-in to the future behavior, set `pd.set_option('future.no_silent_downcasting', True)`\n",
            "  globals()[f'MCC{i}_SB'] = merged_df3_4.fillna(0)\n",
            "<ipython-input-20-c82d87e73b81>:74: FutureWarning: Downcasting object dtype arrays on .fillna, .ffill, .bfill is deprecated and will change in a future version. Call result.infer_objects(copy=False) instead. To opt-in to the future behavior, set `pd.set_option('future.no_silent_downcasting', True)`\n",
            "  globals()[f'MCC{i}_NB'] = merged_df1_2.fillna(0)\n",
            "<ipython-input-20-c82d87e73b81>:79: FutureWarning: Downcasting object dtype arrays on .fillna, .ffill, .bfill is deprecated and will change in a future version. Call result.infer_objects(copy=False) instead. To opt-in to the future behavior, set `pd.set_option('future.no_silent_downcasting', True)`\n",
            "  globals()[f'MCC{i}_SB'] = merged_df3_4.fillna(0)\n",
            "<ipython-input-20-c82d87e73b81>:74: FutureWarning: Downcasting object dtype arrays on .fillna, .ffill, .bfill is deprecated and will change in a future version. Call result.infer_objects(copy=False) instead. To opt-in to the future behavior, set `pd.set_option('future.no_silent_downcasting', True)`\n",
            "  globals()[f'MCC{i}_NB'] = merged_df1_2.fillna(0)\n",
            "<ipython-input-20-c82d87e73b81>:79: FutureWarning: Downcasting object dtype arrays on .fillna, .ffill, .bfill is deprecated and will change in a future version. Call result.infer_objects(copy=False) instead. To opt-in to the future behavior, set `pd.set_option('future.no_silent_downcasting', True)`\n",
            "  globals()[f'MCC{i}_SB'] = merged_df3_4.fillna(0)\n",
            "<ipython-input-20-c82d87e73b81>:74: FutureWarning: Downcasting object dtype arrays on .fillna, .ffill, .bfill is deprecated and will change in a future version. Call result.infer_objects(copy=False) instead. To opt-in to the future behavior, set `pd.set_option('future.no_silent_downcasting', True)`\n",
            "  globals()[f'MCC{i}_NB'] = merged_df1_2.fillna(0)\n",
            "<ipython-input-20-c82d87e73b81>:79: FutureWarning: Downcasting object dtype arrays on .fillna, .ffill, .bfill is deprecated and will change in a future version. Call result.infer_objects(copy=False) instead. To opt-in to the future behavior, set `pd.set_option('future.no_silent_downcasting', True)`\n",
            "  globals()[f'MCC{i}_SB'] = merged_df3_4.fillna(0)\n",
            "<ipython-input-20-c82d87e73b81>:74: FutureWarning: Downcasting object dtype arrays on .fillna, .ffill, .bfill is deprecated and will change in a future version. Call result.infer_objects(copy=False) instead. To opt-in to the future behavior, set `pd.set_option('future.no_silent_downcasting', True)`\n",
            "  globals()[f'MCC{i}_NB'] = merged_df1_2.fillna(0)\n",
            "<ipython-input-20-c82d87e73b81>:79: FutureWarning: Downcasting object dtype arrays on .fillna, .ffill, .bfill is deprecated and will change in a future version. Call result.infer_objects(copy=False) instead. To opt-in to the future behavior, set `pd.set_option('future.no_silent_downcasting', True)`\n",
            "  globals()[f'MCC{i}_SB'] = merged_df3_4.fillna(0)\n",
            "<ipython-input-20-c82d87e73b81>:74: FutureWarning: Downcasting object dtype arrays on .fillna, .ffill, .bfill is deprecated and will change in a future version. Call result.infer_objects(copy=False) instead. To opt-in to the future behavior, set `pd.set_option('future.no_silent_downcasting', True)`\n",
            "  globals()[f'MCC{i}_NB'] = merged_df1_2.fillna(0)\n",
            "<ipython-input-20-c82d87e73b81>:79: FutureWarning: Downcasting object dtype arrays on .fillna, .ffill, .bfill is deprecated and will change in a future version. Call result.infer_objects(copy=False) instead. To opt-in to the future behavior, set `pd.set_option('future.no_silent_downcasting', True)`\n",
            "  globals()[f'MCC{i}_SB'] = merged_df3_4.fillna(0)\n",
            "<ipython-input-20-c82d87e73b81>:74: FutureWarning: Downcasting object dtype arrays on .fillna, .ffill, .bfill is deprecated and will change in a future version. Call result.infer_objects(copy=False) instead. To opt-in to the future behavior, set `pd.set_option('future.no_silent_downcasting', True)`\n",
            "  globals()[f'MCC{i}_NB'] = merged_df1_2.fillna(0)\n",
            "<ipython-input-20-c82d87e73b81>:79: FutureWarning: Downcasting object dtype arrays on .fillna, .ffill, .bfill is deprecated and will change in a future version. Call result.infer_objects(copy=False) instead. To opt-in to the future behavior, set `pd.set_option('future.no_silent_downcasting', True)`\n",
            "  globals()[f'MCC{i}_SB'] = merged_df3_4.fillna(0)\n"
          ]
        }
      ]
    },
    {
      "cell_type": "code",
      "source": [
        "# import pandas as pd\n",
        "# from datetime import datetime\n",
        "\n",
        "# days_of_week = ['Monday', 'Tuesday', 'Wednesday', 'Thursday', 'Friday', 'Saturday', 'Sunday']\n",
        "# vehicle_types = [\n",
        "#     \"Passenger Cars / Taxi\", \"Van / Pick up\", \"LGV\", \"Bus\",\n",
        "#     \"HGV Single axles\", \"HGV 2 axles\", \"HGV 3 axles\", \"HGV 4+ axles\"\n",
        "# ]\n",
        "# # Function to process MCC data\n",
        "# def process_mcc_data(j):\n",
        "#     # Process MCC_NB\n",
        "#     MCC_NB_dict = {}\n",
        "#     MCC_NB_df_name = f'MCC{j}_NB'\n",
        "\n",
        "#     if MCC_NB_df_name in globals():  # Check if the DataFrame exists\n",
        "#         MCC_NB_df = globals()[MCC_NB_df_name]\n",
        "\n",
        "#         for i in range(0, len(MCC_NB_df.columns), 9):\n",
        "#             column_name = MCC_NB_df.columns[i]\n",
        "#             MCC_NB_dict[column_name] = MCC_NB_df.iloc[:, i+1:i+9]\n",
        "\n",
        "#         # Map dates to days for NB\n",
        "#         date_to_day_NB = {}\n",
        "#         for date_str in MCC_NB_dict.keys():\n",
        "#             try:\n",
        "#                 date_object = datetime.strptime(date_str, '%d.%m.%y')\n",
        "#                 day_name = date_object.strftime('%A')\n",
        "#                 date_to_day_NB[date_str] = day_name\n",
        "#             except ValueError:\n",
        "#                 print(f\"Error parsing date: {date_str}\")\n",
        "\n",
        "#         # Arrange dictionary by days of the week for NB\n",
        "#         final_dict_NB = {day: MCC_NB_dict.get(date_str, [0, 0, 0]) for day in days_of_week\n",
        "#                           for date_str in date_to_day_NB if date_to_day_NB[date_str] == day}\n",
        "\n",
        "#         # Create DataFrames for NB\n",
        "#         dataframes_NB = []\n",
        "#         for day, vehicle_data in final_dict_NB.items():\n",
        "#             df = pd.DataFrame(vehicle_data)\n",
        "#             df.columns = [f\"{col} ({day})\" for col in df.columns]\n",
        "#             dataframes_NB.append(df)\n",
        "\n",
        "#         if dataframes_NB:  # Check if dataframes_NB is not empty\n",
        "#             combined_df_NB = pd.concat(dataframes_NB, axis=1)\n",
        "#         else:\n",
        "#             print(f\"No data for NB in MCC{j}\")\n",
        "#             combined_df_NB = pd.DataFrame()\n",
        "\n",
        "#     else:\n",
        "#         print(f\"DataFrame {MCC_NB_df_name} not found. Skipping.\")\n",
        "#         return  # Exit the function if the DataFrame does not exist\n",
        "\n",
        "#     # Process MCC_SB\n",
        "#     MCC_SB_dict = {}\n",
        "#     MCC_SB_df_name = f'MCC{j}_SB'\n",
        "\n",
        "#     if MCC_SB_df_name in globals():  # Check if the DataFrame exists\n",
        "#         MCC_SB_df = globals()[MCC_SB_df_name]\n",
        "\n",
        "#         for i in range(0, len(MCC_SB_df.columns), 9):\n",
        "#             column_name = MCC_SB_df.columns[i]\n",
        "#             MCC_SB_dict[column_name] = MCC_SB_df.iloc[:, i+1:i+9]\n",
        "\n",
        "#         # Map dates to days for SB\n",
        "#         date_to_day_SB = {}\n",
        "#         for date_str in MCC_SB_dict.keys():\n",
        "#             try:\n",
        "#                 date_object = datetime.strptime(date_str, '%d.%m.%y')\n",
        "#                 day_name = date_object.strftime('%A')\n",
        "#                 date_to_day_SB[date_str] = day_name\n",
        "#             except ValueError:\n",
        "#                 print(f\"Error parsing date: {date_str}\")\n",
        "\n",
        "#         # Arrange dictionary by days of the week for SB\n",
        "#         final_dict_SB = {day: MCC_SB_dict.get(date_str, [0, 0, 0]) for day in days_of_week\n",
        "#                           for date_str in date_to_day_SB if date_to_day_SB[date_str] == day}\n",
        "\n",
        "#         # Create DataFrames for SB\n",
        "#         dataframes_SB = []\n",
        "#         for day, vehicle_data in final_dict_SB.items():\n",
        "#             df = pd.DataFrame(vehicle_data)\n",
        "#             df.columns = [f\"{col} ({day})\" for col in df.columns]\n",
        "#             dataframes_SB.append(df)\n",
        "\n",
        "#         if dataframes_SB:  # Check if dataframes_SB is not empty\n",
        "#             combined_df_SB = pd.concat(dataframes_SB, axis=1)\n",
        "#         else:\n",
        "#             print(f\"No data for SB in MCC{j}\")\n",
        "#             combined_df_SB = pd.DataFrame()\n",
        "\n",
        "#         data_NB  = pd.DataFrame(columns=vehicle_types*7)\n",
        "\n",
        "\n",
        "#         # Loop through each day and assign the columns to data_n\n",
        "#         for i, day in enumerate(days_of_week):\n",
        "#     # Select columns in df that contain the day's name\n",
        "#             day_columns = combined_df_NB.loc[:, combined_df_NB.columns.str.contains(day)]\n",
        "\n",
        "#     # Ensure there are at least 8 columns and enough rows in data_n\n",
        "#             if day_columns.shape[1] >= 8:\n",
        "#         # Match the row count of data_n to day_columns if necessary\n",
        "#                 if data_NB.shape[0] < day_columns.shape[0]:\n",
        "#                     data_NB = data_NB.reindex(index=range(day_columns.shape[0]))\n",
        "\n",
        "#         # Calculate the start and end column indices for assignment\n",
        "#                 start_col = i * 8\n",
        "#                 end_col = start_col + 8\n",
        "\n",
        "#         # Assign the first 8 columns with the day's name to the appropriate columns in data_n\n",
        "#                 data_NB.iloc[:, start_col:end_col] = day_columns.iloc[:, :8].to_numpy()\n",
        "#             else:\n",
        "#                 print(f\"Not enough columns with NB '{day}'\")\n",
        "#         data_SB  = pd.DataFrame(columns=vehicle_types*7)\n",
        "\n",
        "\n",
        "#         # Loop through each day and assign the columns to data_n\n",
        "#         for i, day in enumerate(days_of_week):\n",
        "#     # Select columns in df that contain the day's name\n",
        "#             day_columns = combined_df_SB.loc[:, combined_df_SB.columns.str.contains(day)]\n",
        "\n",
        "#     # Ensure there are at least 8 columns and enough rows in data_n\n",
        "#             if day_columns.shape[1] >= 8:\n",
        "#         # Match the row count of data_n to day_columns if necessary\n",
        "#                 if data_SB.shape[0] < day_columns.shape[0]:\n",
        "#                     data_SB = data_SB.reindex(index=range(day_columns.shape[0]))\n",
        "\n",
        "#         # Calculate the start and end column indices for assignment\n",
        "#                 start_col = i * 8\n",
        "#                 end_col = start_col + 8\n",
        "\n",
        "#         # Assign the first 8 columns with the day's name to the appropriate columns in data_n\n",
        "#                 data_SB.iloc[:, start_col:end_col] = day_columns.iloc[:, :8].to_numpy()\n",
        "#             else:\n",
        "#                 print(f\"Not enough columns with SB '{day}'\")\n",
        "#         # Write to Excel file\n",
        "#         with pd.ExcelWriter(f'MCC{j}.xlsx') as writer:\n",
        "#             data_NB.to_excel(writer, sheet_name='NB1', index=False)\n",
        "#             data_SB.to_excel(writer, sheet_name='SB1', index=False)\n",
        "#     else:\n",
        "#         print(f\"DataFrame {MCC_SB_df_name} not found. Skipping.\")\n",
        "#         return  # Exit the function if the DataFrame does not exist\n",
        "\n",
        "# # Loop through each MCC (1 to 20)\n",
        "# for j in range(1, 21):\n",
        "#     process_mcc_data(j)"
      ],
      "metadata": {
        "id": "QKBoyYhYmWCu"
      },
      "execution_count": null,
      "outputs": []
    },
    {
      "cell_type": "code",
      "source": [
        "import pandas as pd\n",
        "from datetime import datetime\n",
        "import numpy as np\n",
        "days_of_week = ['Monday', 'Tuesday', 'Wednesday', 'Thursday', 'Friday', 'Saturday', 'Sunday']\n",
        "vehicle_types = [\n",
        "    \"Passenger Cars / Taxi\", \"Van / Pick up\", \"LGV\", \"Bus\",\n",
        "    \"HGV Single axles\", \"HGV 2 axles\", \"HGV 3 axles\", \"HGV 4+ axles\"\n",
        ",\"Total\"]\n",
        "# Function to process MCC data\n",
        "def process_mcc_data(j):\n",
        "    # Process MCC_NB\n",
        "    MCC_NB_dict = {}\n",
        "    MCC_NB_df_name = f'MCC{j}_NB'\n",
        "\n",
        "    if MCC_NB_df_name in globals():  # Check if the DataFrame exists\n",
        "        MCC_NB_df = globals()[MCC_NB_df_name]\n",
        "\n",
        "        for i in range(0, len(MCC_NB_df.columns), 9):\n",
        "            column_name = MCC_NB_df.columns[i]\n",
        "            MCC_NB_dict[column_name] = MCC_NB_df.iloc[:, i+1:i+9]\n",
        "\n",
        "        # Map dates to days for NB\n",
        "        date_to_day_NB = {}\n",
        "        for date_str in MCC_NB_dict.keys():\n",
        "            try:\n",
        "                date_object = datetime.strptime(date_str, '%d.%m.%y')\n",
        "                day_name = date_object.strftime('%A')\n",
        "                date_to_day_NB[date_str] = day_name\n",
        "            except ValueError:\n",
        "                print(f\"Error parsing date: {date_str}\")\n",
        "\n",
        "        # Arrange dictionary by days of the week for NB\n",
        "        final_dict_NB = {day: MCC_NB_dict.get(date_str, [0, 0, 0]) for day in days_of_week\n",
        "                          for date_str in date_to_day_NB if date_to_day_NB[date_str] == day}\n",
        "\n",
        "        # Create DataFrames for NB\n",
        "        dataframes_NB = []\n",
        "        for day, vehicle_data in final_dict_NB.items():\n",
        "            df = pd.DataFrame(vehicle_data)\n",
        "            df.columns = [f\"{col} ({day})\" for col in df.columns]\n",
        "            dataframes_NB.append(df)\n",
        "\n",
        "        if dataframes_NB:  # Check if dataframes_NB is not empty\n",
        "            combined_df_NB = pd.concat(dataframes_NB, axis=1)\n",
        "        else:\n",
        "            print(f\"No data for NB in MCC{j}\")\n",
        "            combined_df_NB = pd.DataFrame()\n",
        "\n",
        "    else:\n",
        "        print(f\"DataFrame {MCC_NB_df_name} not found. Skipping.\")\n",
        "        return  # Exit the function if the DataFrame does not exist\n",
        "\n",
        "    # Process MCC_SB\n",
        "    MCC_SB_dict = {}\n",
        "    MCC_SB_df_name = f'MCC{j}_SB'\n",
        "\n",
        "    if MCC_SB_df_name in globals():  # Check if the DataFrame exists\n",
        "        MCC_SB_df = globals()[MCC_SB_df_name]\n",
        "\n",
        "        for i in range(0, len(MCC_SB_df.columns), 9):\n",
        "            column_name = MCC_SB_df.columns[i]\n",
        "            MCC_SB_dict[column_name] = MCC_SB_df.iloc[:, i+1:i+9]\n",
        "\n",
        "        # Map dates to days for SB\n",
        "        date_to_day_SB = {}\n",
        "        for date_str in MCC_SB_dict.keys():\n",
        "            try:\n",
        "                date_object = datetime.strptime(date_str, '%d.%m.%y')\n",
        "                day_name = date_object.strftime('%A')\n",
        "                date_to_day_SB[date_str] = day_name\n",
        "            except ValueError:\n",
        "                print(f\"Error parsing date: {date_str}\")\n",
        "\n",
        "        # Arrange dictionary by days of the week for SB\n",
        "        final_dict_SB = {day: MCC_SB_dict.get(date_str, [0, 0, 0]) for day in days_of_week\n",
        "                          for date_str in date_to_day_SB if date_to_day_SB[date_str] == day}\n",
        "\n",
        "        # Create DataFrames for SB\n",
        "        dataframes_SB = []\n",
        "        for day, vehicle_data in final_dict_SB.items():\n",
        "            df = pd.DataFrame(vehicle_data)\n",
        "            df.columns = [f\"{col} ({day})\" for col in df.columns]\n",
        "            dataframes_SB.append(df)\n",
        "\n",
        "        if dataframes_SB:  # Check if dataframes_SB is not empty\n",
        "            combined_df_SB = pd.concat(dataframes_SB, axis=1)\n",
        "\n",
        "        else:\n",
        "            print(f\"No data for SB in MCC{j}\")\n",
        "            combined_df_SB = pd.DataFrame()\n",
        "\n",
        "        data_NB  = pd.DataFrame(columns=vehicle_types*7)\n",
        "\n",
        "\n",
        "        # Loop through each day and assign the columns to data_n\n",
        "        for i, day in enumerate(days_of_week):\n",
        "    # Select columns in df that contain the day's name\n",
        "            day_columns = combined_df_NB.loc[:, combined_df_NB.columns.str.contains(day)]\n",
        "\n",
        "    # Ensure there are at least 8 columns and enough rows in data_NB\n",
        "            if day_columns.shape[1] >= 8:\n",
        "        # Match the row count of data_n to day_columns if necessary\n",
        "                if data_NB.shape[0] < day_columns.shape[0]:\n",
        "                    data_NB = data_NB.reindex(index=range(day_columns.shape[0]))\n",
        "\n",
        "        # Calculate the start and end column indices for assignment\n",
        "                start_col = i * 9\n",
        "                end_col = start_col + 8\n",
        "\n",
        "        # Assign the first 8 columns with the day's name to the appropriate columns in data_n\n",
        "                data_NB.iloc[:, start_col:end_col] = day_columns.iloc[:, :8].to_numpy()\n",
        "\n",
        "                data_NB.iloc[:, start_col:end_col] = data_NB.iloc[:, start_col:end_col].apply(pd.to_numeric, errors='coerce')\n",
        "\n",
        "                # Replace NaN with 0\n",
        "                data_NB.iloc[:, start_col:end_col] = data_NB.iloc[:, start_col:end_col].fillna(0)\n",
        "\n",
        "                # Now, sum along rows (axis=1) and convert the result to float\n",
        "                data_NB.iloc[:, end_col] = data_NB.iloc[:, start_col:end_col].sum(axis=1)\n",
        "            else:\n",
        "                print(f\"Not enough columns with NB '{day}'\")\n",
        "\n",
        "        with pd.ExcelWriter(f'MCC-{j}.xlsx',\n",
        "                    mode=\"a\",\n",
        "                    engine=\"openpyxl\",\n",
        "                    if_sheet_exists=\"overlay\",\n",
        "                ) as writer:\n",
        "                    data_NB.to_excel(writer, sheet_name=\"NB1\", startcol=2, startrow=30, index=False, header=False)\n",
        "\n",
        "        data_SB  = pd.DataFrame(columns=vehicle_types*7)\n",
        "\n",
        "\n",
        "        # Loop through each day and assign the columns to data_n\n",
        "        for i, day in enumerate(days_of_week):\n",
        "    # Select columns in df that contain the day's name\n",
        "            day_columns = combined_df_SB.loc[:, combined_df_SB.columns.str.contains(day)]\n",
        "\n",
        "    # Ensure there are at least 8 columns and enough rows in data_n\n",
        "            if day_columns.shape[1] >= 8:\n",
        "        # Match the row count of data_n to day_columns if necessary\n",
        "                if data_SB.shape[0] < day_columns.shape[0]:\n",
        "                    data_SB = data_SB.reindex(index=range(day_columns.shape[0]))\n",
        "\n",
        "        # Calculate the start and end column indices for assignment\n",
        "                start_col = i * 9\n",
        "                end_col = start_col + 8\n",
        "\n",
        "        # Assign the first 8 columns with the day's name to the appropriate columns in data_n\n",
        "                data_SB.iloc[:, start_col:end_col] = day_columns.iloc[:, :8].to_numpy()\n",
        "                data_SB.iloc[:, start_col:end_col] = data_SB.iloc[:, start_col:end_col].apply(pd.to_numeric, errors='coerce')\n",
        "\n",
        "                # Replace NaN with 0\n",
        "                data_SB.iloc[:, start_col:end_col] = data_SB.iloc[:, start_col:end_col].fillna(0)\n",
        "\n",
        "                # Now, sum along rows (axis=1) and convert the result to float\n",
        "                data_SB.iloc[:, end_col] = data_SB.iloc[:, start_col:end_col].sum(axis=1)\n",
        "            else:\n",
        "                print(f\"Not enough columns with SB '{day}'\")\n",
        "        with pd.ExcelWriter(f'MCC-{j}.xlsx',\n",
        "                    mode=\"a\",\n",
        "                    engine=\"openpyxl\",\n",
        "                    if_sheet_exists=\"overlay\",\n",
        "                ) as writer:\n",
        "                    data_SB.to_excel(writer, sheet_name=\"SB1\", startcol=2, startrow=30, index=False, header=False)\n",
        "        # Write to Excel file\n",
        "        # with pd.ExcelWriter(f'MCC{j}.xlsx') as writer:\n",
        "        #     data_NB.to_excel(writer, sheet_name='NB1', index=False)\n",
        "        #     data_SB.to_excel(writer, sheet_name='SB1', index=False)\n",
        "    else:\n",
        "        print(f\"DataFrame {MCC_SB_df_name} not found. Skipping.\")\n",
        "        return  # Exit the function if the DataFrame does not exist\n",
        "\n",
        "# Loop through each MCC (1 to 20)\n",
        "for j in range(1, 21):\n",
        "    process_mcc_data(j)"
      ],
      "metadata": {
        "colab": {
          "base_uri": "https://localhost:8080/"
        },
        "id": "aludVZET8zto",
        "outputId": "abfcecc1-e577-40e1-9c4d-56445852c671"
      },
      "execution_count": null,
      "outputs": [
        {
          "output_type": "stream",
          "name": "stderr",
          "text": [
            "<ipython-input-21-31e673f0ae53>:116: FutureWarning: Downcasting object dtype arrays on .fillna, .ffill, .bfill is deprecated and will change in a future version. Call result.infer_objects(copy=False) instead. To opt-in to the future behavior, set `pd.set_option('future.no_silent_downcasting', True)`\n",
            "  data_NB.iloc[:, start_col:end_col] = data_NB.iloc[:, start_col:end_col].fillna(0)\n",
            "<ipython-input-21-31e673f0ae53>:116: FutureWarning: Downcasting object dtype arrays on .fillna, .ffill, .bfill is deprecated and will change in a future version. Call result.infer_objects(copy=False) instead. To opt-in to the future behavior, set `pd.set_option('future.no_silent_downcasting', True)`\n",
            "  data_NB.iloc[:, start_col:end_col] = data_NB.iloc[:, start_col:end_col].fillna(0)\n",
            "<ipython-input-21-31e673f0ae53>:116: FutureWarning: Downcasting object dtype arrays on .fillna, .ffill, .bfill is deprecated and will change in a future version. Call result.infer_objects(copy=False) instead. To opt-in to the future behavior, set `pd.set_option('future.no_silent_downcasting', True)`\n",
            "  data_NB.iloc[:, start_col:end_col] = data_NB.iloc[:, start_col:end_col].fillna(0)\n"
          ]
        },
        {
          "output_type": "stream",
          "name": "stdout",
          "text": [
            "Not enough columns with NB 'Tuesday'\n",
            "Not enough columns with NB 'Thursday'\n",
            "Not enough columns with NB 'Saturday'\n",
            "Not enough columns with NB 'Sunday'\n"
          ]
        },
        {
          "output_type": "stream",
          "name": "stderr",
          "text": [
            "<ipython-input-21-31e673f0ae53>:153: FutureWarning: Downcasting object dtype arrays on .fillna, .ffill, .bfill is deprecated and will change in a future version. Call result.infer_objects(copy=False) instead. To opt-in to the future behavior, set `pd.set_option('future.no_silent_downcasting', True)`\n",
            "  data_SB.iloc[:, start_col:end_col] = data_SB.iloc[:, start_col:end_col].fillna(0)\n",
            "<ipython-input-21-31e673f0ae53>:153: FutureWarning: Downcasting object dtype arrays on .fillna, .ffill, .bfill is deprecated and will change in a future version. Call result.infer_objects(copy=False) instead. To opt-in to the future behavior, set `pd.set_option('future.no_silent_downcasting', True)`\n",
            "  data_SB.iloc[:, start_col:end_col] = data_SB.iloc[:, start_col:end_col].fillna(0)\n",
            "<ipython-input-21-31e673f0ae53>:153: FutureWarning: Downcasting object dtype arrays on .fillna, .ffill, .bfill is deprecated and will change in a future version. Call result.infer_objects(copy=False) instead. To opt-in to the future behavior, set `pd.set_option('future.no_silent_downcasting', True)`\n",
            "  data_SB.iloc[:, start_col:end_col] = data_SB.iloc[:, start_col:end_col].fillna(0)\n"
          ]
        },
        {
          "output_type": "stream",
          "name": "stdout",
          "text": [
            "Not enough columns with SB 'Tuesday'\n",
            "Not enough columns with SB 'Thursday'\n",
            "Not enough columns with SB 'Saturday'\n",
            "Not enough columns with SB 'Sunday'\n"
          ]
        },
        {
          "output_type": "stream",
          "name": "stderr",
          "text": [
            "<ipython-input-21-31e673f0ae53>:116: FutureWarning: Downcasting object dtype arrays on .fillna, .ffill, .bfill is deprecated and will change in a future version. Call result.infer_objects(copy=False) instead. To opt-in to the future behavior, set `pd.set_option('future.no_silent_downcasting', True)`\n",
            "  data_NB.iloc[:, start_col:end_col] = data_NB.iloc[:, start_col:end_col].fillna(0)\n",
            "<ipython-input-21-31e673f0ae53>:116: FutureWarning: Downcasting object dtype arrays on .fillna, .ffill, .bfill is deprecated and will change in a future version. Call result.infer_objects(copy=False) instead. To opt-in to the future behavior, set `pd.set_option('future.no_silent_downcasting', True)`\n",
            "  data_NB.iloc[:, start_col:end_col] = data_NB.iloc[:, start_col:end_col].fillna(0)\n",
            "<ipython-input-21-31e673f0ae53>:116: FutureWarning: Downcasting object dtype arrays on .fillna, .ffill, .bfill is deprecated and will change in a future version. Call result.infer_objects(copy=False) instead. To opt-in to the future behavior, set `pd.set_option('future.no_silent_downcasting', True)`\n",
            "  data_NB.iloc[:, start_col:end_col] = data_NB.iloc[:, start_col:end_col].fillna(0)\n"
          ]
        },
        {
          "output_type": "stream",
          "name": "stdout",
          "text": [
            "Not enough columns with NB 'Tuesday'\n",
            "Not enough columns with NB 'Thursday'\n",
            "Not enough columns with NB 'Saturday'\n",
            "Not enough columns with NB 'Sunday'\n"
          ]
        },
        {
          "output_type": "stream",
          "name": "stderr",
          "text": [
            "<ipython-input-21-31e673f0ae53>:153: FutureWarning: Downcasting object dtype arrays on .fillna, .ffill, .bfill is deprecated and will change in a future version. Call result.infer_objects(copy=False) instead. To opt-in to the future behavior, set `pd.set_option('future.no_silent_downcasting', True)`\n",
            "  data_SB.iloc[:, start_col:end_col] = data_SB.iloc[:, start_col:end_col].fillna(0)\n",
            "<ipython-input-21-31e673f0ae53>:153: FutureWarning: Downcasting object dtype arrays on .fillna, .ffill, .bfill is deprecated and will change in a future version. Call result.infer_objects(copy=False) instead. To opt-in to the future behavior, set `pd.set_option('future.no_silent_downcasting', True)`\n",
            "  data_SB.iloc[:, start_col:end_col] = data_SB.iloc[:, start_col:end_col].fillna(0)\n",
            "<ipython-input-21-31e673f0ae53>:153: FutureWarning: Downcasting object dtype arrays on .fillna, .ffill, .bfill is deprecated and will change in a future version. Call result.infer_objects(copy=False) instead. To opt-in to the future behavior, set `pd.set_option('future.no_silent_downcasting', True)`\n",
            "  data_SB.iloc[:, start_col:end_col] = data_SB.iloc[:, start_col:end_col].fillna(0)\n"
          ]
        },
        {
          "output_type": "stream",
          "name": "stdout",
          "text": [
            "Not enough columns with SB 'Tuesday'\n",
            "Not enough columns with SB 'Thursday'\n",
            "Not enough columns with SB 'Saturday'\n",
            "Not enough columns with SB 'Sunday'\n",
            "DataFrame MCC3_NB not found. Skipping.\n",
            "DataFrame MCC4_NB not found. Skipping.\n",
            "Not enough columns with NB 'Tuesday'\n",
            "Not enough columns with NB 'Thursday'\n",
            "Not enough columns with NB 'Saturday'\n",
            "Not enough columns with NB 'Sunday'\n"
          ]
        },
        {
          "output_type": "stream",
          "name": "stderr",
          "text": [
            "<ipython-input-21-31e673f0ae53>:116: FutureWarning: Downcasting object dtype arrays on .fillna, .ffill, .bfill is deprecated and will change in a future version. Call result.infer_objects(copy=False) instead. To opt-in to the future behavior, set `pd.set_option('future.no_silent_downcasting', True)`\n",
            "  data_NB.iloc[:, start_col:end_col] = data_NB.iloc[:, start_col:end_col].fillna(0)\n",
            "<ipython-input-21-31e673f0ae53>:116: FutureWarning: Downcasting object dtype arrays on .fillna, .ffill, .bfill is deprecated and will change in a future version. Call result.infer_objects(copy=False) instead. To opt-in to the future behavior, set `pd.set_option('future.no_silent_downcasting', True)`\n",
            "  data_NB.iloc[:, start_col:end_col] = data_NB.iloc[:, start_col:end_col].fillna(0)\n",
            "<ipython-input-21-31e673f0ae53>:116: FutureWarning: Downcasting object dtype arrays on .fillna, .ffill, .bfill is deprecated and will change in a future version. Call result.infer_objects(copy=False) instead. To opt-in to the future behavior, set `pd.set_option('future.no_silent_downcasting', True)`\n",
            "  data_NB.iloc[:, start_col:end_col] = data_NB.iloc[:, start_col:end_col].fillna(0)\n",
            "<ipython-input-21-31e673f0ae53>:153: FutureWarning: Downcasting object dtype arrays on .fillna, .ffill, .bfill is deprecated and will change in a future version. Call result.infer_objects(copy=False) instead. To opt-in to the future behavior, set `pd.set_option('future.no_silent_downcasting', True)`\n",
            "  data_SB.iloc[:, start_col:end_col] = data_SB.iloc[:, start_col:end_col].fillna(0)\n",
            "<ipython-input-21-31e673f0ae53>:153: FutureWarning: Downcasting object dtype arrays on .fillna, .ffill, .bfill is deprecated and will change in a future version. Call result.infer_objects(copy=False) instead. To opt-in to the future behavior, set `pd.set_option('future.no_silent_downcasting', True)`\n",
            "  data_SB.iloc[:, start_col:end_col] = data_SB.iloc[:, start_col:end_col].fillna(0)\n",
            "<ipython-input-21-31e673f0ae53>:153: FutureWarning: Downcasting object dtype arrays on .fillna, .ffill, .bfill is deprecated and will change in a future version. Call result.infer_objects(copy=False) instead. To opt-in to the future behavior, set `pd.set_option('future.no_silent_downcasting', True)`\n",
            "  data_SB.iloc[:, start_col:end_col] = data_SB.iloc[:, start_col:end_col].fillna(0)\n"
          ]
        },
        {
          "output_type": "stream",
          "name": "stdout",
          "text": [
            "Not enough columns with SB 'Tuesday'\n",
            "Not enough columns with SB 'Thursday'\n",
            "Not enough columns with SB 'Saturday'\n",
            "Not enough columns with SB 'Sunday'\n",
            "DataFrame MCC6_NB not found. Skipping.\n",
            "Not enough columns with NB 'Tuesday'\n",
            "Not enough columns with NB 'Thursday'\n",
            "Not enough columns with NB 'Saturday'\n",
            "Not enough columns with NB 'Sunday'\n"
          ]
        },
        {
          "output_type": "stream",
          "name": "stderr",
          "text": [
            "<ipython-input-21-31e673f0ae53>:116: FutureWarning: Downcasting object dtype arrays on .fillna, .ffill, .bfill is deprecated and will change in a future version. Call result.infer_objects(copy=False) instead. To opt-in to the future behavior, set `pd.set_option('future.no_silent_downcasting', True)`\n",
            "  data_NB.iloc[:, start_col:end_col] = data_NB.iloc[:, start_col:end_col].fillna(0)\n",
            "<ipython-input-21-31e673f0ae53>:116: FutureWarning: Downcasting object dtype arrays on .fillna, .ffill, .bfill is deprecated and will change in a future version. Call result.infer_objects(copy=False) instead. To opt-in to the future behavior, set `pd.set_option('future.no_silent_downcasting', True)`\n",
            "  data_NB.iloc[:, start_col:end_col] = data_NB.iloc[:, start_col:end_col].fillna(0)\n",
            "<ipython-input-21-31e673f0ae53>:116: FutureWarning: Downcasting object dtype arrays on .fillna, .ffill, .bfill is deprecated and will change in a future version. Call result.infer_objects(copy=False) instead. To opt-in to the future behavior, set `pd.set_option('future.no_silent_downcasting', True)`\n",
            "  data_NB.iloc[:, start_col:end_col] = data_NB.iloc[:, start_col:end_col].fillna(0)\n",
            "<ipython-input-21-31e673f0ae53>:153: FutureWarning: Downcasting object dtype arrays on .fillna, .ffill, .bfill is deprecated and will change in a future version. Call result.infer_objects(copy=False) instead. To opt-in to the future behavior, set `pd.set_option('future.no_silent_downcasting', True)`\n",
            "  data_SB.iloc[:, start_col:end_col] = data_SB.iloc[:, start_col:end_col].fillna(0)\n",
            "<ipython-input-21-31e673f0ae53>:153: FutureWarning: Downcasting object dtype arrays on .fillna, .ffill, .bfill is deprecated and will change in a future version. Call result.infer_objects(copy=False) instead. To opt-in to the future behavior, set `pd.set_option('future.no_silent_downcasting', True)`\n",
            "  data_SB.iloc[:, start_col:end_col] = data_SB.iloc[:, start_col:end_col].fillna(0)\n",
            "<ipython-input-21-31e673f0ae53>:153: FutureWarning: Downcasting object dtype arrays on .fillna, .ffill, .bfill is deprecated and will change in a future version. Call result.infer_objects(copy=False) instead. To opt-in to the future behavior, set `pd.set_option('future.no_silent_downcasting', True)`\n",
            "  data_SB.iloc[:, start_col:end_col] = data_SB.iloc[:, start_col:end_col].fillna(0)\n"
          ]
        },
        {
          "output_type": "stream",
          "name": "stdout",
          "text": [
            "Not enough columns with SB 'Tuesday'\n",
            "Not enough columns with SB 'Thursday'\n",
            "Not enough columns with SB 'Saturday'\n",
            "Not enough columns with SB 'Sunday'\n",
            "DataFrame MCC8_NB not found. Skipping.\n",
            "DataFrame MCC9_NB not found. Skipping.\n",
            "DataFrame MCC10_NB not found. Skipping.\n",
            "DataFrame MCC11_NB not found. Skipping.\n",
            "Not enough columns with NB 'Tuesday'\n",
            "Not enough columns with NB 'Thursday'\n",
            "Not enough columns with NB 'Saturday'\n",
            "Not enough columns with NB 'Sunday'\n"
          ]
        },
        {
          "output_type": "stream",
          "name": "stderr",
          "text": [
            "<ipython-input-21-31e673f0ae53>:116: FutureWarning: Downcasting object dtype arrays on .fillna, .ffill, .bfill is deprecated and will change in a future version. Call result.infer_objects(copy=False) instead. To opt-in to the future behavior, set `pd.set_option('future.no_silent_downcasting', True)`\n",
            "  data_NB.iloc[:, start_col:end_col] = data_NB.iloc[:, start_col:end_col].fillna(0)\n",
            "<ipython-input-21-31e673f0ae53>:116: FutureWarning: Downcasting object dtype arrays on .fillna, .ffill, .bfill is deprecated and will change in a future version. Call result.infer_objects(copy=False) instead. To opt-in to the future behavior, set `pd.set_option('future.no_silent_downcasting', True)`\n",
            "  data_NB.iloc[:, start_col:end_col] = data_NB.iloc[:, start_col:end_col].fillna(0)\n",
            "<ipython-input-21-31e673f0ae53>:116: FutureWarning: Downcasting object dtype arrays on .fillna, .ffill, .bfill is deprecated and will change in a future version. Call result.infer_objects(copy=False) instead. To opt-in to the future behavior, set `pd.set_option('future.no_silent_downcasting', True)`\n",
            "  data_NB.iloc[:, start_col:end_col] = data_NB.iloc[:, start_col:end_col].fillna(0)\n",
            "<ipython-input-21-31e673f0ae53>:153: FutureWarning: Downcasting object dtype arrays on .fillna, .ffill, .bfill is deprecated and will change in a future version. Call result.infer_objects(copy=False) instead. To opt-in to the future behavior, set `pd.set_option('future.no_silent_downcasting', True)`\n",
            "  data_SB.iloc[:, start_col:end_col] = data_SB.iloc[:, start_col:end_col].fillna(0)\n",
            "<ipython-input-21-31e673f0ae53>:153: FutureWarning: Downcasting object dtype arrays on .fillna, .ffill, .bfill is deprecated and will change in a future version. Call result.infer_objects(copy=False) instead. To opt-in to the future behavior, set `pd.set_option('future.no_silent_downcasting', True)`\n",
            "  data_SB.iloc[:, start_col:end_col] = data_SB.iloc[:, start_col:end_col].fillna(0)\n",
            "<ipython-input-21-31e673f0ae53>:153: FutureWarning: Downcasting object dtype arrays on .fillna, .ffill, .bfill is deprecated and will change in a future version. Call result.infer_objects(copy=False) instead. To opt-in to the future behavior, set `pd.set_option('future.no_silent_downcasting', True)`\n",
            "  data_SB.iloc[:, start_col:end_col] = data_SB.iloc[:, start_col:end_col].fillna(0)\n"
          ]
        },
        {
          "output_type": "stream",
          "name": "stdout",
          "text": [
            "Not enough columns with SB 'Tuesday'\n",
            "Not enough columns with SB 'Thursday'\n",
            "Not enough columns with SB 'Saturday'\n",
            "Not enough columns with SB 'Sunday'\n",
            "DataFrame MCC13_NB not found. Skipping.\n",
            "DataFrame MCC14_NB not found. Skipping.\n",
            "Not enough columns with NB 'Tuesday'\n",
            "Not enough columns with NB 'Thursday'\n",
            "Not enough columns with NB 'Saturday'\n",
            "Not enough columns with NB 'Sunday'\n"
          ]
        },
        {
          "output_type": "stream",
          "name": "stderr",
          "text": [
            "<ipython-input-21-31e673f0ae53>:116: FutureWarning: Downcasting object dtype arrays on .fillna, .ffill, .bfill is deprecated and will change in a future version. Call result.infer_objects(copy=False) instead. To opt-in to the future behavior, set `pd.set_option('future.no_silent_downcasting', True)`\n",
            "  data_NB.iloc[:, start_col:end_col] = data_NB.iloc[:, start_col:end_col].fillna(0)\n",
            "<ipython-input-21-31e673f0ae53>:116: FutureWarning: Downcasting object dtype arrays on .fillna, .ffill, .bfill is deprecated and will change in a future version. Call result.infer_objects(copy=False) instead. To opt-in to the future behavior, set `pd.set_option('future.no_silent_downcasting', True)`\n",
            "  data_NB.iloc[:, start_col:end_col] = data_NB.iloc[:, start_col:end_col].fillna(0)\n",
            "<ipython-input-21-31e673f0ae53>:116: FutureWarning: Downcasting object dtype arrays on .fillna, .ffill, .bfill is deprecated and will change in a future version. Call result.infer_objects(copy=False) instead. To opt-in to the future behavior, set `pd.set_option('future.no_silent_downcasting', True)`\n",
            "  data_NB.iloc[:, start_col:end_col] = data_NB.iloc[:, start_col:end_col].fillna(0)\n",
            "<ipython-input-21-31e673f0ae53>:153: FutureWarning: Downcasting object dtype arrays on .fillna, .ffill, .bfill is deprecated and will change in a future version. Call result.infer_objects(copy=False) instead. To opt-in to the future behavior, set `pd.set_option('future.no_silent_downcasting', True)`\n",
            "  data_SB.iloc[:, start_col:end_col] = data_SB.iloc[:, start_col:end_col].fillna(0)\n",
            "<ipython-input-21-31e673f0ae53>:153: FutureWarning: Downcasting object dtype arrays on .fillna, .ffill, .bfill is deprecated and will change in a future version. Call result.infer_objects(copy=False) instead. To opt-in to the future behavior, set `pd.set_option('future.no_silent_downcasting', True)`\n",
            "  data_SB.iloc[:, start_col:end_col] = data_SB.iloc[:, start_col:end_col].fillna(0)\n",
            "<ipython-input-21-31e673f0ae53>:153: FutureWarning: Downcasting object dtype arrays on .fillna, .ffill, .bfill is deprecated and will change in a future version. Call result.infer_objects(copy=False) instead. To opt-in to the future behavior, set `pd.set_option('future.no_silent_downcasting', True)`\n",
            "  data_SB.iloc[:, start_col:end_col] = data_SB.iloc[:, start_col:end_col].fillna(0)\n"
          ]
        },
        {
          "output_type": "stream",
          "name": "stdout",
          "text": [
            "Not enough columns with SB 'Tuesday'\n",
            "Not enough columns with SB 'Thursday'\n",
            "Not enough columns with SB 'Saturday'\n",
            "Not enough columns with SB 'Sunday'\n",
            "DataFrame MCC16_NB not found. Skipping.\n",
            "DataFrame MCC17_NB not found. Skipping.\n",
            "DataFrame MCC18_NB not found. Skipping.\n",
            "Not enough columns with NB 'Tuesday'\n",
            "Not enough columns with NB 'Thursday'\n",
            "Not enough columns with NB 'Saturday'\n",
            "Not enough columns with NB 'Sunday'\n"
          ]
        },
        {
          "output_type": "stream",
          "name": "stderr",
          "text": [
            "<ipython-input-21-31e673f0ae53>:116: FutureWarning: Downcasting object dtype arrays on .fillna, .ffill, .bfill is deprecated and will change in a future version. Call result.infer_objects(copy=False) instead. To opt-in to the future behavior, set `pd.set_option('future.no_silent_downcasting', True)`\n",
            "  data_NB.iloc[:, start_col:end_col] = data_NB.iloc[:, start_col:end_col].fillna(0)\n",
            "<ipython-input-21-31e673f0ae53>:116: FutureWarning: Downcasting object dtype arrays on .fillna, .ffill, .bfill is deprecated and will change in a future version. Call result.infer_objects(copy=False) instead. To opt-in to the future behavior, set `pd.set_option('future.no_silent_downcasting', True)`\n",
            "  data_NB.iloc[:, start_col:end_col] = data_NB.iloc[:, start_col:end_col].fillna(0)\n",
            "<ipython-input-21-31e673f0ae53>:116: FutureWarning: Downcasting object dtype arrays on .fillna, .ffill, .bfill is deprecated and will change in a future version. Call result.infer_objects(copy=False) instead. To opt-in to the future behavior, set `pd.set_option('future.no_silent_downcasting', True)`\n",
            "  data_NB.iloc[:, start_col:end_col] = data_NB.iloc[:, start_col:end_col].fillna(0)\n",
            "<ipython-input-21-31e673f0ae53>:153: FutureWarning: Downcasting object dtype arrays on .fillna, .ffill, .bfill is deprecated and will change in a future version. Call result.infer_objects(copy=False) instead. To opt-in to the future behavior, set `pd.set_option('future.no_silent_downcasting', True)`\n",
            "  data_SB.iloc[:, start_col:end_col] = data_SB.iloc[:, start_col:end_col].fillna(0)\n",
            "<ipython-input-21-31e673f0ae53>:153: FutureWarning: Downcasting object dtype arrays on .fillna, .ffill, .bfill is deprecated and will change in a future version. Call result.infer_objects(copy=False) instead. To opt-in to the future behavior, set `pd.set_option('future.no_silent_downcasting', True)`\n",
            "  data_SB.iloc[:, start_col:end_col] = data_SB.iloc[:, start_col:end_col].fillna(0)\n",
            "<ipython-input-21-31e673f0ae53>:153: FutureWarning: Downcasting object dtype arrays on .fillna, .ffill, .bfill is deprecated and will change in a future version. Call result.infer_objects(copy=False) instead. To opt-in to the future behavior, set `pd.set_option('future.no_silent_downcasting', True)`\n",
            "  data_SB.iloc[:, start_col:end_col] = data_SB.iloc[:, start_col:end_col].fillna(0)\n"
          ]
        },
        {
          "output_type": "stream",
          "name": "stdout",
          "text": [
            "Not enough columns with SB 'Tuesday'\n",
            "Not enough columns with SB 'Thursday'\n",
            "Not enough columns with SB 'Saturday'\n",
            "Not enough columns with SB 'Sunday'\n"
          ]
        },
        {
          "output_type": "stream",
          "name": "stderr",
          "text": [
            "<ipython-input-21-31e673f0ae53>:116: FutureWarning: Downcasting object dtype arrays on .fillna, .ffill, .bfill is deprecated and will change in a future version. Call result.infer_objects(copy=False) instead. To opt-in to the future behavior, set `pd.set_option('future.no_silent_downcasting', True)`\n",
            "  data_NB.iloc[:, start_col:end_col] = data_NB.iloc[:, start_col:end_col].fillna(0)\n",
            "<ipython-input-21-31e673f0ae53>:116: FutureWarning: Downcasting object dtype arrays on .fillna, .ffill, .bfill is deprecated and will change in a future version. Call result.infer_objects(copy=False) instead. To opt-in to the future behavior, set `pd.set_option('future.no_silent_downcasting', True)`\n",
            "  data_NB.iloc[:, start_col:end_col] = data_NB.iloc[:, start_col:end_col].fillna(0)\n",
            "<ipython-input-21-31e673f0ae53>:116: FutureWarning: Downcasting object dtype arrays on .fillna, .ffill, .bfill is deprecated and will change in a future version. Call result.infer_objects(copy=False) instead. To opt-in to the future behavior, set `pd.set_option('future.no_silent_downcasting', True)`\n",
            "  data_NB.iloc[:, start_col:end_col] = data_NB.iloc[:, start_col:end_col].fillna(0)\n"
          ]
        },
        {
          "output_type": "stream",
          "name": "stdout",
          "text": [
            "Not enough columns with NB 'Tuesday'\n",
            "Not enough columns with NB 'Thursday'\n",
            "Not enough columns with NB 'Saturday'\n",
            "Not enough columns with NB 'Sunday'\n"
          ]
        },
        {
          "output_type": "stream",
          "name": "stderr",
          "text": [
            "<ipython-input-21-31e673f0ae53>:153: FutureWarning: Downcasting object dtype arrays on .fillna, .ffill, .bfill is deprecated and will change in a future version. Call result.infer_objects(copy=False) instead. To opt-in to the future behavior, set `pd.set_option('future.no_silent_downcasting', True)`\n",
            "  data_SB.iloc[:, start_col:end_col] = data_SB.iloc[:, start_col:end_col].fillna(0)\n",
            "<ipython-input-21-31e673f0ae53>:153: FutureWarning: Downcasting object dtype arrays on .fillna, .ffill, .bfill is deprecated and will change in a future version. Call result.infer_objects(copy=False) instead. To opt-in to the future behavior, set `pd.set_option('future.no_silent_downcasting', True)`\n",
            "  data_SB.iloc[:, start_col:end_col] = data_SB.iloc[:, start_col:end_col].fillna(0)\n",
            "<ipython-input-21-31e673f0ae53>:153: FutureWarning: Downcasting object dtype arrays on .fillna, .ffill, .bfill is deprecated and will change in a future version. Call result.infer_objects(copy=False) instead. To opt-in to the future behavior, set `pd.set_option('future.no_silent_downcasting', True)`\n",
            "  data_SB.iloc[:, start_col:end_col] = data_SB.iloc[:, start_col:end_col].fillna(0)\n"
          ]
        },
        {
          "output_type": "stream",
          "name": "stdout",
          "text": [
            "Not enough columns with SB 'Tuesday'\n",
            "Not enough columns with SB 'Thursday'\n",
            "Not enough columns with SB 'Saturday'\n",
            "Not enough columns with SB 'Sunday'\n"
          ]
        }
      ]
    },
    {
      "cell_type": "code",
      "source": [
        "from google.colab import files\n",
        "for i in range(1, 21):\n",
        "    files.download(f'MCC-{i}.xlsx')"
      ],
      "metadata": {
        "colab": {
          "base_uri": "https://localhost:8080/",
          "height": 17
        },
        "id": "8gv7_ZSblHSD",
        "outputId": "2f636f71-b66f-4b4b-e68a-db562aa3b18e"
      },
      "execution_count": null,
      "outputs": [
        {
          "output_type": "display_data",
          "data": {
            "text/plain": [
              "<IPython.core.display.Javascript object>"
            ],
            "application/javascript": [
              "\n",
              "    async function download(id, filename, size) {\n",
              "      if (!google.colab.kernel.accessAllowed) {\n",
              "        return;\n",
              "      }\n",
              "      const div = document.createElement('div');\n",
              "      const label = document.createElement('label');\n",
              "      label.textContent = `Downloading \"${filename}\": `;\n",
              "      div.appendChild(label);\n",
              "      const progress = document.createElement('progress');\n",
              "      progress.max = size;\n",
              "      div.appendChild(progress);\n",
              "      document.body.appendChild(div);\n",
              "\n",
              "      const buffers = [];\n",
              "      let downloaded = 0;\n",
              "\n",
              "      const channel = await google.colab.kernel.comms.open(id);\n",
              "      // Send a message to notify the kernel that we're ready.\n",
              "      channel.send({})\n",
              "\n",
              "      for await (const message of channel.messages) {\n",
              "        // Send a message to notify the kernel that we're ready.\n",
              "        channel.send({})\n",
              "        if (message.buffers) {\n",
              "          for (const buffer of message.buffers) {\n",
              "            buffers.push(buffer);\n",
              "            downloaded += buffer.byteLength;\n",
              "            progress.value = downloaded;\n",
              "          }\n",
              "        }\n",
              "      }\n",
              "      const blob = new Blob(buffers, {type: 'application/binary'});\n",
              "      const a = document.createElement('a');\n",
              "      a.href = window.URL.createObjectURL(blob);\n",
              "      a.download = filename;\n",
              "      div.appendChild(a);\n",
              "      a.click();\n",
              "      div.remove();\n",
              "    }\n",
              "  "
            ]
          },
          "metadata": {}
        },
        {
          "output_type": "display_data",
          "data": {
            "text/plain": [
              "<IPython.core.display.Javascript object>"
            ],
            "application/javascript": [
              "download(\"download_63528807-38b1-4176-880a-a390370494c8\", \"MCC-1.xlsx\", 256604)"
            ]
          },
          "metadata": {}
        },
        {
          "output_type": "display_data",
          "data": {
            "text/plain": [
              "<IPython.core.display.Javascript object>"
            ],
            "application/javascript": [
              "\n",
              "    async function download(id, filename, size) {\n",
              "      if (!google.colab.kernel.accessAllowed) {\n",
              "        return;\n",
              "      }\n",
              "      const div = document.createElement('div');\n",
              "      const label = document.createElement('label');\n",
              "      label.textContent = `Downloading \"${filename}\": `;\n",
              "      div.appendChild(label);\n",
              "      const progress = document.createElement('progress');\n",
              "      progress.max = size;\n",
              "      div.appendChild(progress);\n",
              "      document.body.appendChild(div);\n",
              "\n",
              "      const buffers = [];\n",
              "      let downloaded = 0;\n",
              "\n",
              "      const channel = await google.colab.kernel.comms.open(id);\n",
              "      // Send a message to notify the kernel that we're ready.\n",
              "      channel.send({})\n",
              "\n",
              "      for await (const message of channel.messages) {\n",
              "        // Send a message to notify the kernel that we're ready.\n",
              "        channel.send({})\n",
              "        if (message.buffers) {\n",
              "          for (const buffer of message.buffers) {\n",
              "            buffers.push(buffer);\n",
              "            downloaded += buffer.byteLength;\n",
              "            progress.value = downloaded;\n",
              "          }\n",
              "        }\n",
              "      }\n",
              "      const blob = new Blob(buffers, {type: 'application/binary'});\n",
              "      const a = document.createElement('a');\n",
              "      a.href = window.URL.createObjectURL(blob);\n",
              "      a.download = filename;\n",
              "      div.appendChild(a);\n",
              "      a.click();\n",
              "      div.remove();\n",
              "    }\n",
              "  "
            ]
          },
          "metadata": {}
        },
        {
          "output_type": "display_data",
          "data": {
            "text/plain": [
              "<IPython.core.display.Javascript object>"
            ],
            "application/javascript": [
              "download(\"download_1e0f30f4-737b-4001-9cf3-73ada892e4eb\", \"MCC-2.xlsx\", 237504)"
            ]
          },
          "metadata": {}
        },
        {
          "output_type": "display_data",
          "data": {
            "text/plain": [
              "<IPython.core.display.Javascript object>"
            ],
            "application/javascript": [
              "\n",
              "    async function download(id, filename, size) {\n",
              "      if (!google.colab.kernel.accessAllowed) {\n",
              "        return;\n",
              "      }\n",
              "      const div = document.createElement('div');\n",
              "      const label = document.createElement('label');\n",
              "      label.textContent = `Downloading \"${filename}\": `;\n",
              "      div.appendChild(label);\n",
              "      const progress = document.createElement('progress');\n",
              "      progress.max = size;\n",
              "      div.appendChild(progress);\n",
              "      document.body.appendChild(div);\n",
              "\n",
              "      const buffers = [];\n",
              "      let downloaded = 0;\n",
              "\n",
              "      const channel = await google.colab.kernel.comms.open(id);\n",
              "      // Send a message to notify the kernel that we're ready.\n",
              "      channel.send({})\n",
              "\n",
              "      for await (const message of channel.messages) {\n",
              "        // Send a message to notify the kernel that we're ready.\n",
              "        channel.send({})\n",
              "        if (message.buffers) {\n",
              "          for (const buffer of message.buffers) {\n",
              "            buffers.push(buffer);\n",
              "            downloaded += buffer.byteLength;\n",
              "            progress.value = downloaded;\n",
              "          }\n",
              "        }\n",
              "      }\n",
              "      const blob = new Blob(buffers, {type: 'application/binary'});\n",
              "      const a = document.createElement('a');\n",
              "      a.href = window.URL.createObjectURL(blob);\n",
              "      a.download = filename;\n",
              "      div.appendChild(a);\n",
              "      a.click();\n",
              "      div.remove();\n",
              "    }\n",
              "  "
            ]
          },
          "metadata": {}
        },
        {
          "output_type": "display_data",
          "data": {
            "text/plain": [
              "<IPython.core.display.Javascript object>"
            ],
            "application/javascript": [
              "download(\"download_e109d27a-c12d-4591-b957-4239af195769\", \"MCC-3.xlsx\", 341178)"
            ]
          },
          "metadata": {}
        },
        {
          "output_type": "display_data",
          "data": {
            "text/plain": [
              "<IPython.core.display.Javascript object>"
            ],
            "application/javascript": [
              "\n",
              "    async function download(id, filename, size) {\n",
              "      if (!google.colab.kernel.accessAllowed) {\n",
              "        return;\n",
              "      }\n",
              "      const div = document.createElement('div');\n",
              "      const label = document.createElement('label');\n",
              "      label.textContent = `Downloading \"${filename}\": `;\n",
              "      div.appendChild(label);\n",
              "      const progress = document.createElement('progress');\n",
              "      progress.max = size;\n",
              "      div.appendChild(progress);\n",
              "      document.body.appendChild(div);\n",
              "\n",
              "      const buffers = [];\n",
              "      let downloaded = 0;\n",
              "\n",
              "      const channel = await google.colab.kernel.comms.open(id);\n",
              "      // Send a message to notify the kernel that we're ready.\n",
              "      channel.send({})\n",
              "\n",
              "      for await (const message of channel.messages) {\n",
              "        // Send a message to notify the kernel that we're ready.\n",
              "        channel.send({})\n",
              "        if (message.buffers) {\n",
              "          for (const buffer of message.buffers) {\n",
              "            buffers.push(buffer);\n",
              "            downloaded += buffer.byteLength;\n",
              "            progress.value = downloaded;\n",
              "          }\n",
              "        }\n",
              "      }\n",
              "      const blob = new Blob(buffers, {type: 'application/binary'});\n",
              "      const a = document.createElement('a');\n",
              "      a.href = window.URL.createObjectURL(blob);\n",
              "      a.download = filename;\n",
              "      div.appendChild(a);\n",
              "      a.click();\n",
              "      div.remove();\n",
              "    }\n",
              "  "
            ]
          },
          "metadata": {}
        },
        {
          "output_type": "display_data",
          "data": {
            "text/plain": [
              "<IPython.core.display.Javascript object>"
            ],
            "application/javascript": [
              "download(\"download_b87756b1-2a94-4a86-b7ea-9bb63fc3f8f8\", \"MCC-4.xlsx\", 344723)"
            ]
          },
          "metadata": {}
        },
        {
          "output_type": "display_data",
          "data": {
            "text/plain": [
              "<IPython.core.display.Javascript object>"
            ],
            "application/javascript": [
              "\n",
              "    async function download(id, filename, size) {\n",
              "      if (!google.colab.kernel.accessAllowed) {\n",
              "        return;\n",
              "      }\n",
              "      const div = document.createElement('div');\n",
              "      const label = document.createElement('label');\n",
              "      label.textContent = `Downloading \"${filename}\": `;\n",
              "      div.appendChild(label);\n",
              "      const progress = document.createElement('progress');\n",
              "      progress.max = size;\n",
              "      div.appendChild(progress);\n",
              "      document.body.appendChild(div);\n",
              "\n",
              "      const buffers = [];\n",
              "      let downloaded = 0;\n",
              "\n",
              "      const channel = await google.colab.kernel.comms.open(id);\n",
              "      // Send a message to notify the kernel that we're ready.\n",
              "      channel.send({})\n",
              "\n",
              "      for await (const message of channel.messages) {\n",
              "        // Send a message to notify the kernel that we're ready.\n",
              "        channel.send({})\n",
              "        if (message.buffers) {\n",
              "          for (const buffer of message.buffers) {\n",
              "            buffers.push(buffer);\n",
              "            downloaded += buffer.byteLength;\n",
              "            progress.value = downloaded;\n",
              "          }\n",
              "        }\n",
              "      }\n",
              "      const blob = new Blob(buffers, {type: 'application/binary'});\n",
              "      const a = document.createElement('a');\n",
              "      a.href = window.URL.createObjectURL(blob);\n",
              "      a.download = filename;\n",
              "      div.appendChild(a);\n",
              "      a.click();\n",
              "      div.remove();\n",
              "    }\n",
              "  "
            ]
          },
          "metadata": {}
        },
        {
          "output_type": "display_data",
          "data": {
            "text/plain": [
              "<IPython.core.display.Javascript object>"
            ],
            "application/javascript": [
              "download(\"download_9bf701a9-7379-4942-82bb-4bd6fe78c157\", \"MCC-5.xlsx\", 257171)"
            ]
          },
          "metadata": {}
        },
        {
          "output_type": "display_data",
          "data": {
            "text/plain": [
              "<IPython.core.display.Javascript object>"
            ],
            "application/javascript": [
              "\n",
              "    async function download(id, filename, size) {\n",
              "      if (!google.colab.kernel.accessAllowed) {\n",
              "        return;\n",
              "      }\n",
              "      const div = document.createElement('div');\n",
              "      const label = document.createElement('label');\n",
              "      label.textContent = `Downloading \"${filename}\": `;\n",
              "      div.appendChild(label);\n",
              "      const progress = document.createElement('progress');\n",
              "      progress.max = size;\n",
              "      div.appendChild(progress);\n",
              "      document.body.appendChild(div);\n",
              "\n",
              "      const buffers = [];\n",
              "      let downloaded = 0;\n",
              "\n",
              "      const channel = await google.colab.kernel.comms.open(id);\n",
              "      // Send a message to notify the kernel that we're ready.\n",
              "      channel.send({})\n",
              "\n",
              "      for await (const message of channel.messages) {\n",
              "        // Send a message to notify the kernel that we're ready.\n",
              "        channel.send({})\n",
              "        if (message.buffers) {\n",
              "          for (const buffer of message.buffers) {\n",
              "            buffers.push(buffer);\n",
              "            downloaded += buffer.byteLength;\n",
              "            progress.value = downloaded;\n",
              "          }\n",
              "        }\n",
              "      }\n",
              "      const blob = new Blob(buffers, {type: 'application/binary'});\n",
              "      const a = document.createElement('a');\n",
              "      a.href = window.URL.createObjectURL(blob);\n",
              "      a.download = filename;\n",
              "      div.appendChild(a);\n",
              "      a.click();\n",
              "      div.remove();\n",
              "    }\n",
              "  "
            ]
          },
          "metadata": {}
        },
        {
          "output_type": "display_data",
          "data": {
            "text/plain": [
              "<IPython.core.display.Javascript object>"
            ],
            "application/javascript": [
              "download(\"download_a54ea21c-920d-4a8a-a4f6-b8cc9f2547d7\", \"MCC-6.xlsx\", 342779)"
            ]
          },
          "metadata": {}
        },
        {
          "output_type": "display_data",
          "data": {
            "text/plain": [
              "<IPython.core.display.Javascript object>"
            ],
            "application/javascript": [
              "\n",
              "    async function download(id, filename, size) {\n",
              "      if (!google.colab.kernel.accessAllowed) {\n",
              "        return;\n",
              "      }\n",
              "      const div = document.createElement('div');\n",
              "      const label = document.createElement('label');\n",
              "      label.textContent = `Downloading \"${filename}\": `;\n",
              "      div.appendChild(label);\n",
              "      const progress = document.createElement('progress');\n",
              "      progress.max = size;\n",
              "      div.appendChild(progress);\n",
              "      document.body.appendChild(div);\n",
              "\n",
              "      const buffers = [];\n",
              "      let downloaded = 0;\n",
              "\n",
              "      const channel = await google.colab.kernel.comms.open(id);\n",
              "      // Send a message to notify the kernel that we're ready.\n",
              "      channel.send({})\n",
              "\n",
              "      for await (const message of channel.messages) {\n",
              "        // Send a message to notify the kernel that we're ready.\n",
              "        channel.send({})\n",
              "        if (message.buffers) {\n",
              "          for (const buffer of message.buffers) {\n",
              "            buffers.push(buffer);\n",
              "            downloaded += buffer.byteLength;\n",
              "            progress.value = downloaded;\n",
              "          }\n",
              "        }\n",
              "      }\n",
              "      const blob = new Blob(buffers, {type: 'application/binary'});\n",
              "      const a = document.createElement('a');\n",
              "      a.href = window.URL.createObjectURL(blob);\n",
              "      a.download = filename;\n",
              "      div.appendChild(a);\n",
              "      a.click();\n",
              "      div.remove();\n",
              "    }\n",
              "  "
            ]
          },
          "metadata": {}
        },
        {
          "output_type": "display_data",
          "data": {
            "text/plain": [
              "<IPython.core.display.Javascript object>"
            ],
            "application/javascript": [
              "download(\"download_05df4d15-edd0-4406-b2e2-213c54f45ad3\", \"MCC-7.xlsx\", 258743)"
            ]
          },
          "metadata": {}
        },
        {
          "output_type": "display_data",
          "data": {
            "text/plain": [
              "<IPython.core.display.Javascript object>"
            ],
            "application/javascript": [
              "\n",
              "    async function download(id, filename, size) {\n",
              "      if (!google.colab.kernel.accessAllowed) {\n",
              "        return;\n",
              "      }\n",
              "      const div = document.createElement('div');\n",
              "      const label = document.createElement('label');\n",
              "      label.textContent = `Downloading \"${filename}\": `;\n",
              "      div.appendChild(label);\n",
              "      const progress = document.createElement('progress');\n",
              "      progress.max = size;\n",
              "      div.appendChild(progress);\n",
              "      document.body.appendChild(div);\n",
              "\n",
              "      const buffers = [];\n",
              "      let downloaded = 0;\n",
              "\n",
              "      const channel = await google.colab.kernel.comms.open(id);\n",
              "      // Send a message to notify the kernel that we're ready.\n",
              "      channel.send({})\n",
              "\n",
              "      for await (const message of channel.messages) {\n",
              "        // Send a message to notify the kernel that we're ready.\n",
              "        channel.send({})\n",
              "        if (message.buffers) {\n",
              "          for (const buffer of message.buffers) {\n",
              "            buffers.push(buffer);\n",
              "            downloaded += buffer.byteLength;\n",
              "            progress.value = downloaded;\n",
              "          }\n",
              "        }\n",
              "      }\n",
              "      const blob = new Blob(buffers, {type: 'application/binary'});\n",
              "      const a = document.createElement('a');\n",
              "      a.href = window.URL.createObjectURL(blob);\n",
              "      a.download = filename;\n",
              "      div.appendChild(a);\n",
              "      a.click();\n",
              "      div.remove();\n",
              "    }\n",
              "  "
            ]
          },
          "metadata": {}
        },
        {
          "output_type": "display_data",
          "data": {
            "text/plain": [
              "<IPython.core.display.Javascript object>"
            ],
            "application/javascript": [
              "download(\"download_a64e5004-e872-4820-ba1d-809da09625c1\", \"MCC-8.xlsx\", 332899)"
            ]
          },
          "metadata": {}
        },
        {
          "output_type": "display_data",
          "data": {
            "text/plain": [
              "<IPython.core.display.Javascript object>"
            ],
            "application/javascript": [
              "\n",
              "    async function download(id, filename, size) {\n",
              "      if (!google.colab.kernel.accessAllowed) {\n",
              "        return;\n",
              "      }\n",
              "      const div = document.createElement('div');\n",
              "      const label = document.createElement('label');\n",
              "      label.textContent = `Downloading \"${filename}\": `;\n",
              "      div.appendChild(label);\n",
              "      const progress = document.createElement('progress');\n",
              "      progress.max = size;\n",
              "      div.appendChild(progress);\n",
              "      document.body.appendChild(div);\n",
              "\n",
              "      const buffers = [];\n",
              "      let downloaded = 0;\n",
              "\n",
              "      const channel = await google.colab.kernel.comms.open(id);\n",
              "      // Send a message to notify the kernel that we're ready.\n",
              "      channel.send({})\n",
              "\n",
              "      for await (const message of channel.messages) {\n",
              "        // Send a message to notify the kernel that we're ready.\n",
              "        channel.send({})\n",
              "        if (message.buffers) {\n",
              "          for (const buffer of message.buffers) {\n",
              "            buffers.push(buffer);\n",
              "            downloaded += buffer.byteLength;\n",
              "            progress.value = downloaded;\n",
              "          }\n",
              "        }\n",
              "      }\n",
              "      const blob = new Blob(buffers, {type: 'application/binary'});\n",
              "      const a = document.createElement('a');\n",
              "      a.href = window.URL.createObjectURL(blob);\n",
              "      a.download = filename;\n",
              "      div.appendChild(a);\n",
              "      a.click();\n",
              "      div.remove();\n",
              "    }\n",
              "  "
            ]
          },
          "metadata": {}
        },
        {
          "output_type": "display_data",
          "data": {
            "text/plain": [
              "<IPython.core.display.Javascript object>"
            ],
            "application/javascript": [
              "download(\"download_705852d2-e77c-4077-8c14-43e1dd0933df\", \"MCC-9.xlsx\", 336379)"
            ]
          },
          "metadata": {}
        },
        {
          "output_type": "display_data",
          "data": {
            "text/plain": [
              "<IPython.core.display.Javascript object>"
            ],
            "application/javascript": [
              "\n",
              "    async function download(id, filename, size) {\n",
              "      if (!google.colab.kernel.accessAllowed) {\n",
              "        return;\n",
              "      }\n",
              "      const div = document.createElement('div');\n",
              "      const label = document.createElement('label');\n",
              "      label.textContent = `Downloading \"${filename}\": `;\n",
              "      div.appendChild(label);\n",
              "      const progress = document.createElement('progress');\n",
              "      progress.max = size;\n",
              "      div.appendChild(progress);\n",
              "      document.body.appendChild(div);\n",
              "\n",
              "      const buffers = [];\n",
              "      let downloaded = 0;\n",
              "\n",
              "      const channel = await google.colab.kernel.comms.open(id);\n",
              "      // Send a message to notify the kernel that we're ready.\n",
              "      channel.send({})\n",
              "\n",
              "      for await (const message of channel.messages) {\n",
              "        // Send a message to notify the kernel that we're ready.\n",
              "        channel.send({})\n",
              "        if (message.buffers) {\n",
              "          for (const buffer of message.buffers) {\n",
              "            buffers.push(buffer);\n",
              "            downloaded += buffer.byteLength;\n",
              "            progress.value = downloaded;\n",
              "          }\n",
              "        }\n",
              "      }\n",
              "      const blob = new Blob(buffers, {type: 'application/binary'});\n",
              "      const a = document.createElement('a');\n",
              "      a.href = window.URL.createObjectURL(blob);\n",
              "      a.download = filename;\n",
              "      div.appendChild(a);\n",
              "      a.click();\n",
              "      div.remove();\n",
              "    }\n",
              "  "
            ]
          },
          "metadata": {}
        },
        {
          "output_type": "display_data",
          "data": {
            "text/plain": [
              "<IPython.core.display.Javascript object>"
            ],
            "application/javascript": [
              "download(\"download_385bde08-0ff6-494f-9e4e-1b97427f836a\", \"MCC-10.xlsx\", 335329)"
            ]
          },
          "metadata": {}
        },
        {
          "output_type": "display_data",
          "data": {
            "text/plain": [
              "<IPython.core.display.Javascript object>"
            ],
            "application/javascript": [
              "\n",
              "    async function download(id, filename, size) {\n",
              "      if (!google.colab.kernel.accessAllowed) {\n",
              "        return;\n",
              "      }\n",
              "      const div = document.createElement('div');\n",
              "      const label = document.createElement('label');\n",
              "      label.textContent = `Downloading \"${filename}\": `;\n",
              "      div.appendChild(label);\n",
              "      const progress = document.createElement('progress');\n",
              "      progress.max = size;\n",
              "      div.appendChild(progress);\n",
              "      document.body.appendChild(div);\n",
              "\n",
              "      const buffers = [];\n",
              "      let downloaded = 0;\n",
              "\n",
              "      const channel = await google.colab.kernel.comms.open(id);\n",
              "      // Send a message to notify the kernel that we're ready.\n",
              "      channel.send({})\n",
              "\n",
              "      for await (const message of channel.messages) {\n",
              "        // Send a message to notify the kernel that we're ready.\n",
              "        channel.send({})\n",
              "        if (message.buffers) {\n",
              "          for (const buffer of message.buffers) {\n",
              "            buffers.push(buffer);\n",
              "            downloaded += buffer.byteLength;\n",
              "            progress.value = downloaded;\n",
              "          }\n",
              "        }\n",
              "      }\n",
              "      const blob = new Blob(buffers, {type: 'application/binary'});\n",
              "      const a = document.createElement('a');\n",
              "      a.href = window.URL.createObjectURL(blob);\n",
              "      a.download = filename;\n",
              "      div.appendChild(a);\n",
              "      a.click();\n",
              "      div.remove();\n",
              "    }\n",
              "  "
            ]
          },
          "metadata": {}
        },
        {
          "output_type": "display_data",
          "data": {
            "text/plain": [
              "<IPython.core.display.Javascript object>"
            ],
            "application/javascript": [
              "download(\"download_b8591595-ba17-487c-a82d-f3290cf69540\", \"MCC-11.xlsx\", 336956)"
            ]
          },
          "metadata": {}
        },
        {
          "output_type": "display_data",
          "data": {
            "text/plain": [
              "<IPython.core.display.Javascript object>"
            ],
            "application/javascript": [
              "\n",
              "    async function download(id, filename, size) {\n",
              "      if (!google.colab.kernel.accessAllowed) {\n",
              "        return;\n",
              "      }\n",
              "      const div = document.createElement('div');\n",
              "      const label = document.createElement('label');\n",
              "      label.textContent = `Downloading \"${filename}\": `;\n",
              "      div.appendChild(label);\n",
              "      const progress = document.createElement('progress');\n",
              "      progress.max = size;\n",
              "      div.appendChild(progress);\n",
              "      document.body.appendChild(div);\n",
              "\n",
              "      const buffers = [];\n",
              "      let downloaded = 0;\n",
              "\n",
              "      const channel = await google.colab.kernel.comms.open(id);\n",
              "      // Send a message to notify the kernel that we're ready.\n",
              "      channel.send({})\n",
              "\n",
              "      for await (const message of channel.messages) {\n",
              "        // Send a message to notify the kernel that we're ready.\n",
              "        channel.send({})\n",
              "        if (message.buffers) {\n",
              "          for (const buffer of message.buffers) {\n",
              "            buffers.push(buffer);\n",
              "            downloaded += buffer.byteLength;\n",
              "            progress.value = downloaded;\n",
              "          }\n",
              "        }\n",
              "      }\n",
              "      const blob = new Blob(buffers, {type: 'application/binary'});\n",
              "      const a = document.createElement('a');\n",
              "      a.href = window.URL.createObjectURL(blob);\n",
              "      a.download = filename;\n",
              "      div.appendChild(a);\n",
              "      a.click();\n",
              "      div.remove();\n",
              "    }\n",
              "  "
            ]
          },
          "metadata": {}
        },
        {
          "output_type": "display_data",
          "data": {
            "text/plain": [
              "<IPython.core.display.Javascript object>"
            ],
            "application/javascript": [
              "download(\"download_22b32e54-640f-42cd-8ca1-d57c75e17096\", \"MCC-12.xlsx\", 256587)"
            ]
          },
          "metadata": {}
        },
        {
          "output_type": "display_data",
          "data": {
            "text/plain": [
              "<IPython.core.display.Javascript object>"
            ],
            "application/javascript": [
              "\n",
              "    async function download(id, filename, size) {\n",
              "      if (!google.colab.kernel.accessAllowed) {\n",
              "        return;\n",
              "      }\n",
              "      const div = document.createElement('div');\n",
              "      const label = document.createElement('label');\n",
              "      label.textContent = `Downloading \"${filename}\": `;\n",
              "      div.appendChild(label);\n",
              "      const progress = document.createElement('progress');\n",
              "      progress.max = size;\n",
              "      div.appendChild(progress);\n",
              "      document.body.appendChild(div);\n",
              "\n",
              "      const buffers = [];\n",
              "      let downloaded = 0;\n",
              "\n",
              "      const channel = await google.colab.kernel.comms.open(id);\n",
              "      // Send a message to notify the kernel that we're ready.\n",
              "      channel.send({})\n",
              "\n",
              "      for await (const message of channel.messages) {\n",
              "        // Send a message to notify the kernel that we're ready.\n",
              "        channel.send({})\n",
              "        if (message.buffers) {\n",
              "          for (const buffer of message.buffers) {\n",
              "            buffers.push(buffer);\n",
              "            downloaded += buffer.byteLength;\n",
              "            progress.value = downloaded;\n",
              "          }\n",
              "        }\n",
              "      }\n",
              "      const blob = new Blob(buffers, {type: 'application/binary'});\n",
              "      const a = document.createElement('a');\n",
              "      a.href = window.URL.createObjectURL(blob);\n",
              "      a.download = filename;\n",
              "      div.appendChild(a);\n",
              "      a.click();\n",
              "      div.remove();\n",
              "    }\n",
              "  "
            ]
          },
          "metadata": {}
        },
        {
          "output_type": "display_data",
          "data": {
            "text/plain": [
              "<IPython.core.display.Javascript object>"
            ],
            "application/javascript": [
              "download(\"download_6a7e9ace-a64b-47ad-afa1-eeaaa4faddb6\", \"MCC-13.xlsx\", 340719)"
            ]
          },
          "metadata": {}
        },
        {
          "output_type": "display_data",
          "data": {
            "text/plain": [
              "<IPython.core.display.Javascript object>"
            ],
            "application/javascript": [
              "\n",
              "    async function download(id, filename, size) {\n",
              "      if (!google.colab.kernel.accessAllowed) {\n",
              "        return;\n",
              "      }\n",
              "      const div = document.createElement('div');\n",
              "      const label = document.createElement('label');\n",
              "      label.textContent = `Downloading \"${filename}\": `;\n",
              "      div.appendChild(label);\n",
              "      const progress = document.createElement('progress');\n",
              "      progress.max = size;\n",
              "      div.appendChild(progress);\n",
              "      document.body.appendChild(div);\n",
              "\n",
              "      const buffers = [];\n",
              "      let downloaded = 0;\n",
              "\n",
              "      const channel = await google.colab.kernel.comms.open(id);\n",
              "      // Send a message to notify the kernel that we're ready.\n",
              "      channel.send({})\n",
              "\n",
              "      for await (const message of channel.messages) {\n",
              "        // Send a message to notify the kernel that we're ready.\n",
              "        channel.send({})\n",
              "        if (message.buffers) {\n",
              "          for (const buffer of message.buffers) {\n",
              "            buffers.push(buffer);\n",
              "            downloaded += buffer.byteLength;\n",
              "            progress.value = downloaded;\n",
              "          }\n",
              "        }\n",
              "      }\n",
              "      const blob = new Blob(buffers, {type: 'application/binary'});\n",
              "      const a = document.createElement('a');\n",
              "      a.href = window.URL.createObjectURL(blob);\n",
              "      a.download = filename;\n",
              "      div.appendChild(a);\n",
              "      a.click();\n",
              "      div.remove();\n",
              "    }\n",
              "  "
            ]
          },
          "metadata": {}
        },
        {
          "output_type": "display_data",
          "data": {
            "text/plain": [
              "<IPython.core.display.Javascript object>"
            ],
            "application/javascript": [
              "download(\"download_8f09db74-218d-4826-9b4c-f39c67a32c9a\", \"MCC-14.xlsx\", 349904)"
            ]
          },
          "metadata": {}
        },
        {
          "output_type": "display_data",
          "data": {
            "text/plain": [
              "<IPython.core.display.Javascript object>"
            ],
            "application/javascript": [
              "\n",
              "    async function download(id, filename, size) {\n",
              "      if (!google.colab.kernel.accessAllowed) {\n",
              "        return;\n",
              "      }\n",
              "      const div = document.createElement('div');\n",
              "      const label = document.createElement('label');\n",
              "      label.textContent = `Downloading \"${filename}\": `;\n",
              "      div.appendChild(label);\n",
              "      const progress = document.createElement('progress');\n",
              "      progress.max = size;\n",
              "      div.appendChild(progress);\n",
              "      document.body.appendChild(div);\n",
              "\n",
              "      const buffers = [];\n",
              "      let downloaded = 0;\n",
              "\n",
              "      const channel = await google.colab.kernel.comms.open(id);\n",
              "      // Send a message to notify the kernel that we're ready.\n",
              "      channel.send({})\n",
              "\n",
              "      for await (const message of channel.messages) {\n",
              "        // Send a message to notify the kernel that we're ready.\n",
              "        channel.send({})\n",
              "        if (message.buffers) {\n",
              "          for (const buffer of message.buffers) {\n",
              "            buffers.push(buffer);\n",
              "            downloaded += buffer.byteLength;\n",
              "            progress.value = downloaded;\n",
              "          }\n",
              "        }\n",
              "      }\n",
              "      const blob = new Blob(buffers, {type: 'application/binary'});\n",
              "      const a = document.createElement('a');\n",
              "      a.href = window.URL.createObjectURL(blob);\n",
              "      a.download = filename;\n",
              "      div.appendChild(a);\n",
              "      a.click();\n",
              "      div.remove();\n",
              "    }\n",
              "  "
            ]
          },
          "metadata": {}
        },
        {
          "output_type": "display_data",
          "data": {
            "text/plain": [
              "<IPython.core.display.Javascript object>"
            ],
            "application/javascript": [
              "download(\"download_352bcf93-5882-455f-9fa6-b37639ba4655\", \"MCC-15.xlsx\", 256489)"
            ]
          },
          "metadata": {}
        },
        {
          "output_type": "display_data",
          "data": {
            "text/plain": [
              "<IPython.core.display.Javascript object>"
            ],
            "application/javascript": [
              "\n",
              "    async function download(id, filename, size) {\n",
              "      if (!google.colab.kernel.accessAllowed) {\n",
              "        return;\n",
              "      }\n",
              "      const div = document.createElement('div');\n",
              "      const label = document.createElement('label');\n",
              "      label.textContent = `Downloading \"${filename}\": `;\n",
              "      div.appendChild(label);\n",
              "      const progress = document.createElement('progress');\n",
              "      progress.max = size;\n",
              "      div.appendChild(progress);\n",
              "      document.body.appendChild(div);\n",
              "\n",
              "      const buffers = [];\n",
              "      let downloaded = 0;\n",
              "\n",
              "      const channel = await google.colab.kernel.comms.open(id);\n",
              "      // Send a message to notify the kernel that we're ready.\n",
              "      channel.send({})\n",
              "\n",
              "      for await (const message of channel.messages) {\n",
              "        // Send a message to notify the kernel that we're ready.\n",
              "        channel.send({})\n",
              "        if (message.buffers) {\n",
              "          for (const buffer of message.buffers) {\n",
              "            buffers.push(buffer);\n",
              "            downloaded += buffer.byteLength;\n",
              "            progress.value = downloaded;\n",
              "          }\n",
              "        }\n",
              "      }\n",
              "      const blob = new Blob(buffers, {type: 'application/binary'});\n",
              "      const a = document.createElement('a');\n",
              "      a.href = window.URL.createObjectURL(blob);\n",
              "      a.download = filename;\n",
              "      div.appendChild(a);\n",
              "      a.click();\n",
              "      div.remove();\n",
              "    }\n",
              "  "
            ]
          },
          "metadata": {}
        },
        {
          "output_type": "display_data",
          "data": {
            "text/plain": [
              "<IPython.core.display.Javascript object>"
            ],
            "application/javascript": [
              "download(\"download_bf586142-681d-480b-ab30-dd1ad28928ca\", \"MCC-16.xlsx\", 357110)"
            ]
          },
          "metadata": {}
        },
        {
          "output_type": "display_data",
          "data": {
            "text/plain": [
              "<IPython.core.display.Javascript object>"
            ],
            "application/javascript": [
              "\n",
              "    async function download(id, filename, size) {\n",
              "      if (!google.colab.kernel.accessAllowed) {\n",
              "        return;\n",
              "      }\n",
              "      const div = document.createElement('div');\n",
              "      const label = document.createElement('label');\n",
              "      label.textContent = `Downloading \"${filename}\": `;\n",
              "      div.appendChild(label);\n",
              "      const progress = document.createElement('progress');\n",
              "      progress.max = size;\n",
              "      div.appendChild(progress);\n",
              "      document.body.appendChild(div);\n",
              "\n",
              "      const buffers = [];\n",
              "      let downloaded = 0;\n",
              "\n",
              "      const channel = await google.colab.kernel.comms.open(id);\n",
              "      // Send a message to notify the kernel that we're ready.\n",
              "      channel.send({})\n",
              "\n",
              "      for await (const message of channel.messages) {\n",
              "        // Send a message to notify the kernel that we're ready.\n",
              "        channel.send({})\n",
              "        if (message.buffers) {\n",
              "          for (const buffer of message.buffers) {\n",
              "            buffers.push(buffer);\n",
              "            downloaded += buffer.byteLength;\n",
              "            progress.value = downloaded;\n",
              "          }\n",
              "        }\n",
              "      }\n",
              "      const blob = new Blob(buffers, {type: 'application/binary'});\n",
              "      const a = document.createElement('a');\n",
              "      a.href = window.URL.createObjectURL(blob);\n",
              "      a.download = filename;\n",
              "      div.appendChild(a);\n",
              "      a.click();\n",
              "      div.remove();\n",
              "    }\n",
              "  "
            ]
          },
          "metadata": {}
        },
        {
          "output_type": "display_data",
          "data": {
            "text/plain": [
              "<IPython.core.display.Javascript object>"
            ],
            "application/javascript": [
              "download(\"download_296e7216-b8bf-4aac-ba63-4c183cb79f78\", \"MCC-17.xlsx\", 339672)"
            ]
          },
          "metadata": {}
        },
        {
          "output_type": "display_data",
          "data": {
            "text/plain": [
              "<IPython.core.display.Javascript object>"
            ],
            "application/javascript": [
              "\n",
              "    async function download(id, filename, size) {\n",
              "      if (!google.colab.kernel.accessAllowed) {\n",
              "        return;\n",
              "      }\n",
              "      const div = document.createElement('div');\n",
              "      const label = document.createElement('label');\n",
              "      label.textContent = `Downloading \"${filename}\": `;\n",
              "      div.appendChild(label);\n",
              "      const progress = document.createElement('progress');\n",
              "      progress.max = size;\n",
              "      div.appendChild(progress);\n",
              "      document.body.appendChild(div);\n",
              "\n",
              "      const buffers = [];\n",
              "      let downloaded = 0;\n",
              "\n",
              "      const channel = await google.colab.kernel.comms.open(id);\n",
              "      // Send a message to notify the kernel that we're ready.\n",
              "      channel.send({})\n",
              "\n",
              "      for await (const message of channel.messages) {\n",
              "        // Send a message to notify the kernel that we're ready.\n",
              "        channel.send({})\n",
              "        if (message.buffers) {\n",
              "          for (const buffer of message.buffers) {\n",
              "            buffers.push(buffer);\n",
              "            downloaded += buffer.byteLength;\n",
              "            progress.value = downloaded;\n",
              "          }\n",
              "        }\n",
              "      }\n",
              "      const blob = new Blob(buffers, {type: 'application/binary'});\n",
              "      const a = document.createElement('a');\n",
              "      a.href = window.URL.createObjectURL(blob);\n",
              "      a.download = filename;\n",
              "      div.appendChild(a);\n",
              "      a.click();\n",
              "      div.remove();\n",
              "    }\n",
              "  "
            ]
          },
          "metadata": {}
        },
        {
          "output_type": "display_data",
          "data": {
            "text/plain": [
              "<IPython.core.display.Javascript object>"
            ],
            "application/javascript": [
              "download(\"download_d284857e-ed2c-4da4-b638-a99ddb15c533\", \"MCC-18.xlsx\", 349145)"
            ]
          },
          "metadata": {}
        },
        {
          "output_type": "display_data",
          "data": {
            "text/plain": [
              "<IPython.core.display.Javascript object>"
            ],
            "application/javascript": [
              "\n",
              "    async function download(id, filename, size) {\n",
              "      if (!google.colab.kernel.accessAllowed) {\n",
              "        return;\n",
              "      }\n",
              "      const div = document.createElement('div');\n",
              "      const label = document.createElement('label');\n",
              "      label.textContent = `Downloading \"${filename}\": `;\n",
              "      div.appendChild(label);\n",
              "      const progress = document.createElement('progress');\n",
              "      progress.max = size;\n",
              "      div.appendChild(progress);\n",
              "      document.body.appendChild(div);\n",
              "\n",
              "      const buffers = [];\n",
              "      let downloaded = 0;\n",
              "\n",
              "      const channel = await google.colab.kernel.comms.open(id);\n",
              "      // Send a message to notify the kernel that we're ready.\n",
              "      channel.send({})\n",
              "\n",
              "      for await (const message of channel.messages) {\n",
              "        // Send a message to notify the kernel that we're ready.\n",
              "        channel.send({})\n",
              "        if (message.buffers) {\n",
              "          for (const buffer of message.buffers) {\n",
              "            buffers.push(buffer);\n",
              "            downloaded += buffer.byteLength;\n",
              "            progress.value = downloaded;\n",
              "          }\n",
              "        }\n",
              "      }\n",
              "      const blob = new Blob(buffers, {type: 'application/binary'});\n",
              "      const a = document.createElement('a');\n",
              "      a.href = window.URL.createObjectURL(blob);\n",
              "      a.download = filename;\n",
              "      div.appendChild(a);\n",
              "      a.click();\n",
              "      div.remove();\n",
              "    }\n",
              "  "
            ]
          },
          "metadata": {}
        },
        {
          "output_type": "display_data",
          "data": {
            "text/plain": [
              "<IPython.core.display.Javascript object>"
            ],
            "application/javascript": [
              "download(\"download_274d0dbf-5e1e-4456-a8c9-45c13fbcf30f\", \"MCC-19.xlsx\", 238218)"
            ]
          },
          "metadata": {}
        },
        {
          "output_type": "display_data",
          "data": {
            "text/plain": [
              "<IPython.core.display.Javascript object>"
            ],
            "application/javascript": [
              "\n",
              "    async function download(id, filename, size) {\n",
              "      if (!google.colab.kernel.accessAllowed) {\n",
              "        return;\n",
              "      }\n",
              "      const div = document.createElement('div');\n",
              "      const label = document.createElement('label');\n",
              "      label.textContent = `Downloading \"${filename}\": `;\n",
              "      div.appendChild(label);\n",
              "      const progress = document.createElement('progress');\n",
              "      progress.max = size;\n",
              "      div.appendChild(progress);\n",
              "      document.body.appendChild(div);\n",
              "\n",
              "      const buffers = [];\n",
              "      let downloaded = 0;\n",
              "\n",
              "      const channel = await google.colab.kernel.comms.open(id);\n",
              "      // Send a message to notify the kernel that we're ready.\n",
              "      channel.send({})\n",
              "\n",
              "      for await (const message of channel.messages) {\n",
              "        // Send a message to notify the kernel that we're ready.\n",
              "        channel.send({})\n",
              "        if (message.buffers) {\n",
              "          for (const buffer of message.buffers) {\n",
              "            buffers.push(buffer);\n",
              "            downloaded += buffer.byteLength;\n",
              "            progress.value = downloaded;\n",
              "          }\n",
              "        }\n",
              "      }\n",
              "      const blob = new Blob(buffers, {type: 'application/binary'});\n",
              "      const a = document.createElement('a');\n",
              "      a.href = window.URL.createObjectURL(blob);\n",
              "      a.download = filename;\n",
              "      div.appendChild(a);\n",
              "      a.click();\n",
              "      div.remove();\n",
              "    }\n",
              "  "
            ]
          },
          "metadata": {}
        },
        {
          "output_type": "display_data",
          "data": {
            "text/plain": [
              "<IPython.core.display.Javascript object>"
            ],
            "application/javascript": [
              "download(\"download_bed69b1f-2104-44a5-8170-3b0abc4132d9\", \"MCC-20.xlsx\", 238673)"
            ]
          },
          "metadata": {}
        }
      ]
    }
  ]
}